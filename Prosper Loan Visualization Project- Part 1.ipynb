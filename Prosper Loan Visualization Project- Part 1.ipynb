{
 "cells": [
  {
   "cell_type": "markdown",
   "id": "3ca78aa9",
   "metadata": {},
   "source": [
    "# Part I - Prosper Loan Data"
   ]
  },
  {
   "cell_type": "markdown",
   "id": "dfccc12d",
   "metadata": {},
   "source": [
    "### by: Mayowa Shobande"
   ]
  },
  {
   "cell_type": "markdown",
   "id": "afc0eb17",
   "metadata": {},
   "source": [
    "## Introduction"
   ]
  },
  {
   "cell_type": "markdown",
   "id": "8933e774",
   "metadata": {},
   "source": [
    "This data set contains 113,937 loans with 81 variables on each loan, including loan amount, borrower rate (or interest rate), current loan status, borrower income, and many others.\n"
   ]
  },
  {
   "cell_type": "markdown",
   "id": "82fabaeb",
   "metadata": {},
   "source": [
    "## Preliminary Wrangling"
   ]
  },
  {
   "cell_type": "markdown",
   "id": "2cc1d96b",
   "metadata": {},
   "source": [
    "#### Import Libraries"
   ]
  },
  {
   "cell_type": "code",
   "execution_count": 1,
   "id": "df621d08",
   "metadata": {},
   "outputs": [],
   "source": [
    "# importing libraries\n",
    "\n",
    "import numpy as np\n",
    "import matplotlib.pyplot as plt\n",
    "import pandas as pd\n",
    "import seaborn as sns\n",
    "\n",
    "%matplotlib inline"
   ]
  },
  {
   "cell_type": "markdown",
   "id": "061263d4",
   "metadata": {},
   "source": [
    "#### Import Dataset"
   ]
  },
  {
   "cell_type": "code",
   "execution_count": 2,
   "id": "a3b32cdc",
   "metadata": {},
   "outputs": [
    {
     "name": "stdout",
     "output_type": "stream",
     "text": [
      "Data imported successfully.\n"
     ]
    }
   ],
   "source": [
    "# importing dataset\n",
    "\n",
    "loan = pd.read_csv(\"C:/Users/shoba/Downloads/prosperLoanData.csv\")\n",
    "\n",
    "print(\"Data imported successfully.\")"
   ]
  },
  {
   "cell_type": "markdown",
   "id": "b5b13635",
   "metadata": {},
   "source": [
    "#### Assessing Data"
   ]
  },
  {
   "cell_type": "code",
   "execution_count": 3,
   "id": "133f3c28",
   "metadata": {},
   "outputs": [
    {
     "data": {
      "text/html": [
       "<div>\n",
       "<style scoped>\n",
       "    .dataframe tbody tr th:only-of-type {\n",
       "        vertical-align: middle;\n",
       "    }\n",
       "\n",
       "    .dataframe tbody tr th {\n",
       "        vertical-align: top;\n",
       "    }\n",
       "\n",
       "    .dataframe thead th {\n",
       "        text-align: right;\n",
       "    }\n",
       "</style>\n",
       "<table border=\"1\" class=\"dataframe\">\n",
       "  <thead>\n",
       "    <tr style=\"text-align: right;\">\n",
       "      <th></th>\n",
       "      <th>ListingKey</th>\n",
       "      <th>ListingNumber</th>\n",
       "      <th>ListingCreationDate</th>\n",
       "      <th>CreditGrade</th>\n",
       "      <th>Term</th>\n",
       "      <th>LoanStatus</th>\n",
       "      <th>ClosedDate</th>\n",
       "      <th>BorrowerAPR</th>\n",
       "      <th>BorrowerRate</th>\n",
       "      <th>LenderYield</th>\n",
       "      <th>...</th>\n",
       "      <th>LP_ServiceFees</th>\n",
       "      <th>LP_CollectionFees</th>\n",
       "      <th>LP_GrossPrincipalLoss</th>\n",
       "      <th>LP_NetPrincipalLoss</th>\n",
       "      <th>LP_NonPrincipalRecoverypayments</th>\n",
       "      <th>PercentFunded</th>\n",
       "      <th>Recommendations</th>\n",
       "      <th>InvestmentFromFriendsCount</th>\n",
       "      <th>InvestmentFromFriendsAmount</th>\n",
       "      <th>Investors</th>\n",
       "    </tr>\n",
       "  </thead>\n",
       "  <tbody>\n",
       "    <tr>\n",
       "      <th>0</th>\n",
       "      <td>1021339766868145413AB3B</td>\n",
       "      <td>193129</td>\n",
       "      <td>09:29.3</td>\n",
       "      <td>C</td>\n",
       "      <td>36</td>\n",
       "      <td>Completed</td>\n",
       "      <td>8/14/2009 0:00</td>\n",
       "      <td>0.16516</td>\n",
       "      <td>0.1580</td>\n",
       "      <td>0.1380</td>\n",
       "      <td>...</td>\n",
       "      <td>-133.18</td>\n",
       "      <td>0.0</td>\n",
       "      <td>0.0</td>\n",
       "      <td>0.0</td>\n",
       "      <td>0.0</td>\n",
       "      <td>1.0</td>\n",
       "      <td>0</td>\n",
       "      <td>0</td>\n",
       "      <td>0.0</td>\n",
       "      <td>258</td>\n",
       "    </tr>\n",
       "    <tr>\n",
       "      <th>1</th>\n",
       "      <td>10273602499503308B223C1</td>\n",
       "      <td>1209647</td>\n",
       "      <td>28:07.9</td>\n",
       "      <td>NaN</td>\n",
       "      <td>36</td>\n",
       "      <td>Current</td>\n",
       "      <td>NaN</td>\n",
       "      <td>0.12016</td>\n",
       "      <td>0.0920</td>\n",
       "      <td>0.0820</td>\n",
       "      <td>...</td>\n",
       "      <td>0.00</td>\n",
       "      <td>0.0</td>\n",
       "      <td>0.0</td>\n",
       "      <td>0.0</td>\n",
       "      <td>0.0</td>\n",
       "      <td>1.0</td>\n",
       "      <td>0</td>\n",
       "      <td>0</td>\n",
       "      <td>0.0</td>\n",
       "      <td>1</td>\n",
       "    </tr>\n",
       "    <tr>\n",
       "      <th>2</th>\n",
       "      <td>0EE9337825851032864889A</td>\n",
       "      <td>81716</td>\n",
       "      <td>00:47.1</td>\n",
       "      <td>HR</td>\n",
       "      <td>36</td>\n",
       "      <td>Completed</td>\n",
       "      <td>12/17/2009 0:00</td>\n",
       "      <td>0.28269</td>\n",
       "      <td>0.2750</td>\n",
       "      <td>0.2400</td>\n",
       "      <td>...</td>\n",
       "      <td>-24.20</td>\n",
       "      <td>0.0</td>\n",
       "      <td>0.0</td>\n",
       "      <td>0.0</td>\n",
       "      <td>0.0</td>\n",
       "      <td>1.0</td>\n",
       "      <td>0</td>\n",
       "      <td>0</td>\n",
       "      <td>0.0</td>\n",
       "      <td>41</td>\n",
       "    </tr>\n",
       "    <tr>\n",
       "      <th>3</th>\n",
       "      <td>0EF5356002482715299901A</td>\n",
       "      <td>658116</td>\n",
       "      <td>02:35.0</td>\n",
       "      <td>NaN</td>\n",
       "      <td>36</td>\n",
       "      <td>Current</td>\n",
       "      <td>NaN</td>\n",
       "      <td>0.12528</td>\n",
       "      <td>0.0974</td>\n",
       "      <td>0.0874</td>\n",
       "      <td>...</td>\n",
       "      <td>-108.01</td>\n",
       "      <td>0.0</td>\n",
       "      <td>0.0</td>\n",
       "      <td>0.0</td>\n",
       "      <td>0.0</td>\n",
       "      <td>1.0</td>\n",
       "      <td>0</td>\n",
       "      <td>0</td>\n",
       "      <td>0.0</td>\n",
       "      <td>158</td>\n",
       "    </tr>\n",
       "    <tr>\n",
       "      <th>4</th>\n",
       "      <td>0F023589499656230C5E3E2</td>\n",
       "      <td>909464</td>\n",
       "      <td>38:39.1</td>\n",
       "      <td>NaN</td>\n",
       "      <td>36</td>\n",
       "      <td>Current</td>\n",
       "      <td>NaN</td>\n",
       "      <td>0.24614</td>\n",
       "      <td>0.2085</td>\n",
       "      <td>0.1985</td>\n",
       "      <td>...</td>\n",
       "      <td>-60.27</td>\n",
       "      <td>0.0</td>\n",
       "      <td>0.0</td>\n",
       "      <td>0.0</td>\n",
       "      <td>0.0</td>\n",
       "      <td>1.0</td>\n",
       "      <td>0</td>\n",
       "      <td>0</td>\n",
       "      <td>0.0</td>\n",
       "      <td>20</td>\n",
       "    </tr>\n",
       "  </tbody>\n",
       "</table>\n",
       "<p>5 rows × 81 columns</p>\n",
       "</div>"
      ],
      "text/plain": [
       "                ListingKey  ListingNumber ListingCreationDate CreditGrade  \\\n",
       "0  1021339766868145413AB3B         193129             09:29.3           C   \n",
       "1  10273602499503308B223C1        1209647             28:07.9         NaN   \n",
       "2  0EE9337825851032864889A          81716             00:47.1          HR   \n",
       "3  0EF5356002482715299901A         658116             02:35.0         NaN   \n",
       "4  0F023589499656230C5E3E2         909464             38:39.1         NaN   \n",
       "\n",
       "   Term LoanStatus       ClosedDate  BorrowerAPR  BorrowerRate  LenderYield  \\\n",
       "0    36  Completed   8/14/2009 0:00      0.16516        0.1580       0.1380   \n",
       "1    36    Current              NaN      0.12016        0.0920       0.0820   \n",
       "2    36  Completed  12/17/2009 0:00      0.28269        0.2750       0.2400   \n",
       "3    36    Current              NaN      0.12528        0.0974       0.0874   \n",
       "4    36    Current              NaN      0.24614        0.2085       0.1985   \n",
       "\n",
       "   ...  LP_ServiceFees  LP_CollectionFees  LP_GrossPrincipalLoss  \\\n",
       "0  ...         -133.18                0.0                    0.0   \n",
       "1  ...            0.00                0.0                    0.0   \n",
       "2  ...          -24.20                0.0                    0.0   \n",
       "3  ...         -108.01                0.0                    0.0   \n",
       "4  ...          -60.27                0.0                    0.0   \n",
       "\n",
       "   LP_NetPrincipalLoss LP_NonPrincipalRecoverypayments  PercentFunded  \\\n",
       "0                  0.0                             0.0            1.0   \n",
       "1                  0.0                             0.0            1.0   \n",
       "2                  0.0                             0.0            1.0   \n",
       "3                  0.0                             0.0            1.0   \n",
       "4                  0.0                             0.0            1.0   \n",
       "\n",
       "   Recommendations InvestmentFromFriendsCount InvestmentFromFriendsAmount  \\\n",
       "0                0                          0                         0.0   \n",
       "1                0                          0                         0.0   \n",
       "2                0                          0                         0.0   \n",
       "3                0                          0                         0.0   \n",
       "4                0                          0                         0.0   \n",
       "\n",
       "  Investors  \n",
       "0       258  \n",
       "1         1  \n",
       "2        41  \n",
       "3       158  \n",
       "4        20  \n",
       "\n",
       "[5 rows x 81 columns]"
      ]
     },
     "execution_count": 3,
     "metadata": {},
     "output_type": "execute_result"
    }
   ],
   "source": [
    "# display the first five rows of loan data\n",
    "\n",
    "loan.head()"
   ]
  },
  {
   "cell_type": "code",
   "execution_count": 4,
   "id": "2eb83176",
   "metadata": {},
   "outputs": [
    {
     "data": {
      "text/plain": [
       "(113937, 81)"
      ]
     },
     "execution_count": 4,
     "metadata": {},
     "output_type": "execute_result"
    }
   ],
   "source": [
    "# checking the size of the data\n",
    "\n",
    "loan.shape"
   ]
  },
  {
   "cell_type": "code",
   "execution_count": 5,
   "id": "2bd7fdab",
   "metadata": {},
   "outputs": [
    {
     "name": "stdout",
     "output_type": "stream",
     "text": [
      "<class 'pandas.core.frame.DataFrame'>\n",
      "RangeIndex: 113937 entries, 0 to 113936\n",
      "Data columns (total 81 columns):\n",
      " #   Column                               Non-Null Count   Dtype  \n",
      "---  ------                               --------------   -----  \n",
      " 0   ListingKey                           113937 non-null  object \n",
      " 1   ListingNumber                        113937 non-null  int64  \n",
      " 2   ListingCreationDate                  113937 non-null  object \n",
      " 3   CreditGrade                          28953 non-null   object \n",
      " 4   Term                                 113937 non-null  int64  \n",
      " 5   LoanStatus                           113937 non-null  object \n",
      " 6   ClosedDate                           55089 non-null   object \n",
      " 7   BorrowerAPR                          113912 non-null  float64\n",
      " 8   BorrowerRate                         113937 non-null  float64\n",
      " 9   LenderYield                          113937 non-null  float64\n",
      " 10  EstimatedEffectiveYield              84853 non-null   float64\n",
      " 11  EstimatedLoss                        84853 non-null   float64\n",
      " 12  EstimatedReturn                      84853 non-null   float64\n",
      " 13  ProsperRating (numeric)              84853 non-null   float64\n",
      " 14  ProsperRating (Alpha)                84853 non-null   object \n",
      " 15  ProsperScore                         84853 non-null   float64\n",
      " 16  ListingCategory (numeric)            113937 non-null  int64  \n",
      " 17  BorrowerState                        108422 non-null  object \n",
      " 18  Occupation                           110349 non-null  object \n",
      " 19  EmploymentStatus                     111682 non-null  object \n",
      " 20  EmploymentStatusDuration             106312 non-null  float64\n",
      " 21  IsBorrowerHomeowner                  113937 non-null  bool   \n",
      " 22  CurrentlyInGroup                     113937 non-null  bool   \n",
      " 23  GroupKey                             13341 non-null   object \n",
      " 24  DateCreditPulled                     113937 non-null  object \n",
      " 25  CreditScoreRangeLower                113346 non-null  float64\n",
      " 26  CreditScoreRangeUpper                113346 non-null  float64\n",
      " 27  FirstRecordedCreditLine              113240 non-null  object \n",
      " 28  CurrentCreditLines                   106333 non-null  float64\n",
      " 29  OpenCreditLines                      106333 non-null  float64\n",
      " 30  TotalCreditLinespast7years           113240 non-null  float64\n",
      " 31  OpenRevolvingAccounts                113937 non-null  int64  \n",
      " 32  OpenRevolvingMonthlyPayment          113937 non-null  int64  \n",
      " 33  InquiriesLast6Months                 113240 non-null  float64\n",
      " 34  TotalInquiries                       112778 non-null  float64\n",
      " 35  CurrentDelinquencies                 113240 non-null  float64\n",
      " 36  AmountDelinquent                     106315 non-null  float64\n",
      " 37  DelinquenciesLast7Years              112947 non-null  float64\n",
      " 38  PublicRecordsLast10Years             113240 non-null  float64\n",
      " 39  PublicRecordsLast12Months            106333 non-null  float64\n",
      " 40  RevolvingCreditBalance               106333 non-null  float64\n",
      " 41  BankcardUtilization                  106333 non-null  float64\n",
      " 42  AvailableBankcardCredit              106393 non-null  float64\n",
      " 43  TotalTrades                          106393 non-null  float64\n",
      " 44  TradesNeverDelinquent (percentage)   106393 non-null  float64\n",
      " 45  TradesOpenedLast6Months              106393 non-null  float64\n",
      " 46  DebtToIncomeRatio                    105383 non-null  float64\n",
      " 47  IncomeRange                          113937 non-null  object \n",
      " 48  IncomeVerifiable                     113937 non-null  bool   \n",
      " 49  StatedMonthlyIncome                  113937 non-null  float64\n",
      " 50  LoanKey                              113937 non-null  object \n",
      " 51  TotalProsperLoans                    22085 non-null   float64\n",
      " 52  TotalProsperPaymentsBilled           22085 non-null   float64\n",
      " 53  OnTimeProsperPayments                22085 non-null   float64\n",
      " 54  ProsperPaymentsLessThanOneMonthLate  22085 non-null   float64\n",
      " 55  ProsperPaymentsOneMonthPlusLate      22085 non-null   float64\n",
      " 56  ProsperPrincipalBorrowed             22085 non-null   float64\n",
      " 57  ProsperPrincipalOutstanding          22085 non-null   float64\n",
      " 58  ScorexChangeAtTimeOfListing          18928 non-null   float64\n",
      " 59  LoanCurrentDaysDelinquent            113937 non-null  int64  \n",
      " 60  LoanFirstDefaultedCycleNumber        16952 non-null   float64\n",
      " 61  LoanMonthsSinceOrigination           113937 non-null  int64  \n",
      " 62  LoanNumber                           113937 non-null  int64  \n",
      " 63  LoanOriginalAmount                   113937 non-null  int64  \n",
      " 64  LoanOriginationDate                  113937 non-null  object \n",
      " 65  LoanOriginationQuarter               113937 non-null  object \n",
      " 66  MemberKey                            113937 non-null  object \n",
      " 67  MonthlyLoanPayment                   113937 non-null  float64\n",
      " 68  LP_CustomerPayments                  113937 non-null  float64\n",
      " 69  LP_CustomerPrincipalPayments         113937 non-null  float64\n",
      " 70  LP_InterestandFees                   113937 non-null  float64\n",
      " 71  LP_ServiceFees                       113937 non-null  float64\n",
      " 72  LP_CollectionFees                    113937 non-null  float64\n",
      " 73  LP_GrossPrincipalLoss                113937 non-null  float64\n",
      " 74  LP_NetPrincipalLoss                  113937 non-null  float64\n",
      " 75  LP_NonPrincipalRecoverypayments      113937 non-null  float64\n",
      " 76  PercentFunded                        113937 non-null  float64\n",
      " 77  Recommendations                      113937 non-null  int64  \n",
      " 78  InvestmentFromFriendsCount           113937 non-null  int64  \n",
      " 79  InvestmentFromFriendsAmount          113937 non-null  float64\n",
      " 80  Investors                            113937 non-null  int64  \n",
      "dtypes: bool(3), float64(49), int64(12), object(17)\n",
      "memory usage: 68.1+ MB\n"
     ]
    }
   ],
   "source": [
    "# Checking Non-Null and datatype of the columns in loan table.\n",
    "\n",
    "loan.info()"
   ]
  },
  {
   "cell_type": "code",
   "execution_count": 6,
   "id": "fcea20e9",
   "metadata": {},
   "outputs": [
    {
     "data": {
      "text/plain": [
       "ListingKey                      object\n",
       "ListingNumber                    int64\n",
       "ListingCreationDate             object\n",
       "CreditGrade                     object\n",
       "Term                             int64\n",
       "                                ...   \n",
       "PercentFunded                  float64\n",
       "Recommendations                  int64\n",
       "InvestmentFromFriendsCount       int64\n",
       "InvestmentFromFriendsAmount    float64\n",
       "Investors                        int64\n",
       "Length: 81, dtype: object"
      ]
     },
     "execution_count": 6,
     "metadata": {},
     "output_type": "execute_result"
    }
   ],
   "source": [
    "# showing datatypes of each column\n",
    "\n",
    "loan.dtypes"
   ]
  },
  {
   "cell_type": "code",
   "execution_count": 7,
   "id": "f2563f17",
   "metadata": {},
   "outputs": [
    {
     "data": {
      "text/plain": [
       "array([36, 60, 12], dtype=int64)"
      ]
     },
     "execution_count": 7,
     "metadata": {},
     "output_type": "execute_result"
    }
   ],
   "source": [
    "# display the unique values in Term column\n",
    "\n",
    "loan.Term.unique()"
   ]
  },
  {
   "cell_type": "code",
   "execution_count": 8,
   "id": "cfe5b60a",
   "metadata": {},
   "outputs": [
    {
     "data": {
      "text/plain": [
       "ListingKey                         0\n",
       "ListingNumber                      0\n",
       "ListingCreationDate                0\n",
       "CreditGrade                    84984\n",
       "Term                               0\n",
       "                               ...  \n",
       "PercentFunded                      0\n",
       "Recommendations                    0\n",
       "InvestmentFromFriendsCount         0\n",
       "InvestmentFromFriendsAmount        0\n",
       "Investors                          0\n",
       "Length: 81, dtype: int64"
      ]
     },
     "execution_count": 8,
     "metadata": {},
     "output_type": "execute_result"
    }
   ],
   "source": [
    "# display the sum of null values in loan table\n",
    "\n",
    "loan.isnull().sum()"
   ]
  },
  {
   "cell_type": "code",
   "execution_count": 9,
   "id": "56b9e986",
   "metadata": {},
   "outputs": [
    {
     "data": {
      "text/plain": [
       "array(['Completed', 'Current', 'Past Due (1-15 days)', 'Defaulted',\n",
       "       'Chargedoff', 'Past Due (16-30 days)', 'Cancelled',\n",
       "       'Past Due (61-90 days)', 'Past Due (31-60 days)',\n",
       "       'Past Due (91-120 days)', 'FinalPaymentInProgress',\n",
       "       'Past Due (>120 days)'], dtype=object)"
      ]
     },
     "execution_count": 9,
     "metadata": {},
     "output_type": "execute_result"
    }
   ],
   "source": [
    "# display the unique values of LoanStatus column\n",
    "\n",
    "loan.LoanStatus.unique()"
   ]
  },
  {
   "cell_type": "code",
   "execution_count": 10,
   "id": "9554d9dc",
   "metadata": {},
   "outputs": [
    {
     "data": {
      "text/plain": [
       "array(['Other', 'Professional', 'Skilled Labor', 'Executive',\n",
       "       'Sales - Retail', 'Laborer', 'Food Service', 'Fireman',\n",
       "       'Waiter/Waitress', 'Construction', 'Computer Programmer',\n",
       "       'Sales - Commission', 'Retail Management', 'Engineer - Mechanical',\n",
       "       'Military Enlisted', 'Clerical', nan, 'Teacher', 'Clergy',\n",
       "       'Accountant/CPA', 'Attorney', 'Nurse (RN)', 'Analyst',\n",
       "       \"Nurse's Aide\", 'Investor', 'Realtor', 'Flight Attendant',\n",
       "       'Nurse (LPN)', 'Military Officer', 'Food Service Management',\n",
       "       'Truck Driver', 'Administrative Assistant',\n",
       "       'Police Officer/Correction Officer', 'Social Worker',\n",
       "       'Tradesman - Mechanic', 'Medical Technician', 'Professor',\n",
       "       'Postal Service', 'Civil Service', 'Pharmacist',\n",
       "       'Tradesman - Electrician', 'Scientist', 'Dentist',\n",
       "       'Engineer - Electrical', 'Architect', 'Landscaping',\n",
       "       'Tradesman - Carpenter', 'Bus Driver', 'Tradesman - Plumber',\n",
       "       'Engineer - Chemical', 'Doctor', 'Chemist',\n",
       "       'Student - College Senior', 'Principal', \"Teacher's Aide\",\n",
       "       'Pilot - Private/Commercial', 'Religious', 'Homemaker',\n",
       "       'Student - College Graduate Student', 'Student - Technical School',\n",
       "       'Psychologist', 'Biologist', 'Student - College Sophomore',\n",
       "       'Judge', 'Student - College Junior', 'Car Dealer',\n",
       "       'Student - Community College', 'Student - College Freshman'],\n",
       "      dtype=object)"
      ]
     },
     "execution_count": 10,
     "metadata": {},
     "output_type": "execute_result"
    }
   ],
   "source": [
    "# display the occupation of loan lenders\n",
    "\n",
    "loan.Occupation.unique()"
   ]
  },
  {
   "cell_type": "code",
   "execution_count": 11,
   "id": "410ad297",
   "metadata": {},
   "outputs": [
    {
     "data": {
      "text/plain": [
       "67"
      ]
     },
     "execution_count": 11,
     "metadata": {},
     "output_type": "execute_result"
    }
   ],
   "source": [
    "# Display the total number of occupation in the table\n",
    "\n",
    "loan.Occupation.nunique()"
   ]
  },
  {
   "cell_type": "code",
   "execution_count": 12,
   "id": "61226d19",
   "metadata": {},
   "outputs": [
    {
     "data": {
      "text/plain": [
       "array(['Self-employed', 'Employed', 'Not available', 'Full-time', 'Other',\n",
       "       nan, 'Not employed', 'Part-time', 'Retired'], dtype=object)"
      ]
     },
     "execution_count": 12,
     "metadata": {},
     "output_type": "execute_result"
    }
   ],
   "source": [
    "# show the unique employment status of loan lenders\n",
    "\n",
    "loan.EmploymentStatus.unique()"
   ]
  },
  {
   "cell_type": "code",
   "execution_count": 13,
   "id": "e25d2a65",
   "metadata": {},
   "outputs": [
    {
     "data": {
      "text/plain": [
       "array([ True, False])"
      ]
     },
     "execution_count": 13,
     "metadata": {},
     "output_type": "execute_result"
    }
   ],
   "source": [
    "# show the unique values of incomeverifiable column\n",
    "\n",
    "loan.IncomeVerifiable.unique()"
   ]
  },
  {
   "cell_type": "code",
   "execution_count": 14,
   "id": "96d77df5",
   "metadata": {},
   "outputs": [
    {
     "data": {
      "text/html": [
       "<div>\n",
       "<style scoped>\n",
       "    .dataframe tbody tr th:only-of-type {\n",
       "        vertical-align: middle;\n",
       "    }\n",
       "\n",
       "    .dataframe tbody tr th {\n",
       "        vertical-align: top;\n",
       "    }\n",
       "\n",
       "    .dataframe thead th {\n",
       "        text-align: right;\n",
       "    }\n",
       "</style>\n",
       "<table border=\"1\" class=\"dataframe\">\n",
       "  <thead>\n",
       "    <tr style=\"text-align: right;\">\n",
       "      <th></th>\n",
       "      <th>ListingNumber</th>\n",
       "      <th>Term</th>\n",
       "      <th>BorrowerAPR</th>\n",
       "      <th>BorrowerRate</th>\n",
       "      <th>LenderYield</th>\n",
       "      <th>EstimatedEffectiveYield</th>\n",
       "      <th>EstimatedLoss</th>\n",
       "      <th>EstimatedReturn</th>\n",
       "      <th>ProsperRating (numeric)</th>\n",
       "      <th>ProsperScore</th>\n",
       "      <th>...</th>\n",
       "      <th>LP_ServiceFees</th>\n",
       "      <th>LP_CollectionFees</th>\n",
       "      <th>LP_GrossPrincipalLoss</th>\n",
       "      <th>LP_NetPrincipalLoss</th>\n",
       "      <th>LP_NonPrincipalRecoverypayments</th>\n",
       "      <th>PercentFunded</th>\n",
       "      <th>Recommendations</th>\n",
       "      <th>InvestmentFromFriendsCount</th>\n",
       "      <th>InvestmentFromFriendsAmount</th>\n",
       "      <th>Investors</th>\n",
       "    </tr>\n",
       "  </thead>\n",
       "  <tbody>\n",
       "    <tr>\n",
       "      <th>count</th>\n",
       "      <td>1.139370e+05</td>\n",
       "      <td>113937.000000</td>\n",
       "      <td>113912.000000</td>\n",
       "      <td>113937.000000</td>\n",
       "      <td>113937.000000</td>\n",
       "      <td>84853.000000</td>\n",
       "      <td>84853.000000</td>\n",
       "      <td>84853.000000</td>\n",
       "      <td>84853.000000</td>\n",
       "      <td>84853.000000</td>\n",
       "      <td>...</td>\n",
       "      <td>113937.000000</td>\n",
       "      <td>113937.000000</td>\n",
       "      <td>113937.000000</td>\n",
       "      <td>113937.000000</td>\n",
       "      <td>113937.000000</td>\n",
       "      <td>113937.000000</td>\n",
       "      <td>113937.000000</td>\n",
       "      <td>113937.000000</td>\n",
       "      <td>113937.000000</td>\n",
       "      <td>113937.000000</td>\n",
       "    </tr>\n",
       "    <tr>\n",
       "      <th>mean</th>\n",
       "      <td>6.278857e+05</td>\n",
       "      <td>40.830248</td>\n",
       "      <td>0.218828</td>\n",
       "      <td>0.192764</td>\n",
       "      <td>0.182701</td>\n",
       "      <td>0.168661</td>\n",
       "      <td>0.080306</td>\n",
       "      <td>0.096068</td>\n",
       "      <td>4.072243</td>\n",
       "      <td>5.950067</td>\n",
       "      <td>...</td>\n",
       "      <td>-54.725641</td>\n",
       "      <td>-14.242698</td>\n",
       "      <td>700.446342</td>\n",
       "      <td>681.420499</td>\n",
       "      <td>25.142686</td>\n",
       "      <td>0.998584</td>\n",
       "      <td>0.048027</td>\n",
       "      <td>0.023460</td>\n",
       "      <td>16.550751</td>\n",
       "      <td>80.475228</td>\n",
       "    </tr>\n",
       "    <tr>\n",
       "      <th>std</th>\n",
       "      <td>3.280762e+05</td>\n",
       "      <td>10.436212</td>\n",
       "      <td>0.080364</td>\n",
       "      <td>0.074818</td>\n",
       "      <td>0.074516</td>\n",
       "      <td>0.068467</td>\n",
       "      <td>0.046764</td>\n",
       "      <td>0.030403</td>\n",
       "      <td>1.673227</td>\n",
       "      <td>2.376501</td>\n",
       "      <td>...</td>\n",
       "      <td>60.675425</td>\n",
       "      <td>109.232758</td>\n",
       "      <td>2388.513831</td>\n",
       "      <td>2357.167068</td>\n",
       "      <td>275.657937</td>\n",
       "      <td>0.017919</td>\n",
       "      <td>0.332353</td>\n",
       "      <td>0.232412</td>\n",
       "      <td>294.545422</td>\n",
       "      <td>103.239020</td>\n",
       "    </tr>\n",
       "    <tr>\n",
       "      <th>min</th>\n",
       "      <td>4.000000e+00</td>\n",
       "      <td>12.000000</td>\n",
       "      <td>0.006530</td>\n",
       "      <td>0.000000</td>\n",
       "      <td>-0.010000</td>\n",
       "      <td>-0.182700</td>\n",
       "      <td>0.004900</td>\n",
       "      <td>-0.182700</td>\n",
       "      <td>1.000000</td>\n",
       "      <td>1.000000</td>\n",
       "      <td>...</td>\n",
       "      <td>-664.870000</td>\n",
       "      <td>-9274.750000</td>\n",
       "      <td>-94.200000</td>\n",
       "      <td>-954.550000</td>\n",
       "      <td>0.000000</td>\n",
       "      <td>0.700000</td>\n",
       "      <td>0.000000</td>\n",
       "      <td>0.000000</td>\n",
       "      <td>0.000000</td>\n",
       "      <td>1.000000</td>\n",
       "    </tr>\n",
       "    <tr>\n",
       "      <th>25%</th>\n",
       "      <td>4.009190e+05</td>\n",
       "      <td>36.000000</td>\n",
       "      <td>0.156290</td>\n",
       "      <td>0.134000</td>\n",
       "      <td>0.124200</td>\n",
       "      <td>0.115670</td>\n",
       "      <td>0.042400</td>\n",
       "      <td>0.074080</td>\n",
       "      <td>3.000000</td>\n",
       "      <td>4.000000</td>\n",
       "      <td>...</td>\n",
       "      <td>-73.180000</td>\n",
       "      <td>0.000000</td>\n",
       "      <td>0.000000</td>\n",
       "      <td>0.000000</td>\n",
       "      <td>0.000000</td>\n",
       "      <td>1.000000</td>\n",
       "      <td>0.000000</td>\n",
       "      <td>0.000000</td>\n",
       "      <td>0.000000</td>\n",
       "      <td>2.000000</td>\n",
       "    </tr>\n",
       "    <tr>\n",
       "      <th>50%</th>\n",
       "      <td>6.005540e+05</td>\n",
       "      <td>36.000000</td>\n",
       "      <td>0.209760</td>\n",
       "      <td>0.184000</td>\n",
       "      <td>0.173000</td>\n",
       "      <td>0.161500</td>\n",
       "      <td>0.072400</td>\n",
       "      <td>0.091700</td>\n",
       "      <td>4.000000</td>\n",
       "      <td>6.000000</td>\n",
       "      <td>...</td>\n",
       "      <td>-34.440000</td>\n",
       "      <td>0.000000</td>\n",
       "      <td>0.000000</td>\n",
       "      <td>0.000000</td>\n",
       "      <td>0.000000</td>\n",
       "      <td>1.000000</td>\n",
       "      <td>0.000000</td>\n",
       "      <td>0.000000</td>\n",
       "      <td>0.000000</td>\n",
       "      <td>44.000000</td>\n",
       "    </tr>\n",
       "    <tr>\n",
       "      <th>75%</th>\n",
       "      <td>8.926340e+05</td>\n",
       "      <td>36.000000</td>\n",
       "      <td>0.283810</td>\n",
       "      <td>0.250000</td>\n",
       "      <td>0.240000</td>\n",
       "      <td>0.224300</td>\n",
       "      <td>0.112000</td>\n",
       "      <td>0.116600</td>\n",
       "      <td>5.000000</td>\n",
       "      <td>8.000000</td>\n",
       "      <td>...</td>\n",
       "      <td>-13.920000</td>\n",
       "      <td>0.000000</td>\n",
       "      <td>0.000000</td>\n",
       "      <td>0.000000</td>\n",
       "      <td>0.000000</td>\n",
       "      <td>1.000000</td>\n",
       "      <td>0.000000</td>\n",
       "      <td>0.000000</td>\n",
       "      <td>0.000000</td>\n",
       "      <td>115.000000</td>\n",
       "    </tr>\n",
       "    <tr>\n",
       "      <th>max</th>\n",
       "      <td>1.255725e+06</td>\n",
       "      <td>60.000000</td>\n",
       "      <td>0.512290</td>\n",
       "      <td>0.497500</td>\n",
       "      <td>0.492500</td>\n",
       "      <td>0.319900</td>\n",
       "      <td>0.366000</td>\n",
       "      <td>0.283700</td>\n",
       "      <td>7.000000</td>\n",
       "      <td>11.000000</td>\n",
       "      <td>...</td>\n",
       "      <td>32.060000</td>\n",
       "      <td>0.000000</td>\n",
       "      <td>25000.000000</td>\n",
       "      <td>25000.000000</td>\n",
       "      <td>21117.900000</td>\n",
       "      <td>1.012500</td>\n",
       "      <td>39.000000</td>\n",
       "      <td>33.000000</td>\n",
       "      <td>25000.000000</td>\n",
       "      <td>1189.000000</td>\n",
       "    </tr>\n",
       "  </tbody>\n",
       "</table>\n",
       "<p>8 rows × 61 columns</p>\n",
       "</div>"
      ],
      "text/plain": [
       "       ListingNumber           Term    BorrowerAPR   BorrowerRate  \\\n",
       "count   1.139370e+05  113937.000000  113912.000000  113937.000000   \n",
       "mean    6.278857e+05      40.830248       0.218828       0.192764   \n",
       "std     3.280762e+05      10.436212       0.080364       0.074818   \n",
       "min     4.000000e+00      12.000000       0.006530       0.000000   \n",
       "25%     4.009190e+05      36.000000       0.156290       0.134000   \n",
       "50%     6.005540e+05      36.000000       0.209760       0.184000   \n",
       "75%     8.926340e+05      36.000000       0.283810       0.250000   \n",
       "max     1.255725e+06      60.000000       0.512290       0.497500   \n",
       "\n",
       "         LenderYield  EstimatedEffectiveYield  EstimatedLoss  EstimatedReturn  \\\n",
       "count  113937.000000             84853.000000   84853.000000     84853.000000   \n",
       "mean        0.182701                 0.168661       0.080306         0.096068   \n",
       "std         0.074516                 0.068467       0.046764         0.030403   \n",
       "min        -0.010000                -0.182700       0.004900        -0.182700   \n",
       "25%         0.124200                 0.115670       0.042400         0.074080   \n",
       "50%         0.173000                 0.161500       0.072400         0.091700   \n",
       "75%         0.240000                 0.224300       0.112000         0.116600   \n",
       "max         0.492500                 0.319900       0.366000         0.283700   \n",
       "\n",
       "       ProsperRating (numeric)  ProsperScore  ...  LP_ServiceFees  \\\n",
       "count             84853.000000  84853.000000  ...   113937.000000   \n",
       "mean                  4.072243      5.950067  ...      -54.725641   \n",
       "std                   1.673227      2.376501  ...       60.675425   \n",
       "min                   1.000000      1.000000  ...     -664.870000   \n",
       "25%                   3.000000      4.000000  ...      -73.180000   \n",
       "50%                   4.000000      6.000000  ...      -34.440000   \n",
       "75%                   5.000000      8.000000  ...      -13.920000   \n",
       "max                   7.000000     11.000000  ...       32.060000   \n",
       "\n",
       "       LP_CollectionFees  LP_GrossPrincipalLoss  LP_NetPrincipalLoss  \\\n",
       "count      113937.000000          113937.000000        113937.000000   \n",
       "mean          -14.242698             700.446342           681.420499   \n",
       "std           109.232758            2388.513831          2357.167068   \n",
       "min         -9274.750000             -94.200000          -954.550000   \n",
       "25%             0.000000               0.000000             0.000000   \n",
       "50%             0.000000               0.000000             0.000000   \n",
       "75%             0.000000               0.000000             0.000000   \n",
       "max             0.000000           25000.000000         25000.000000   \n",
       "\n",
       "       LP_NonPrincipalRecoverypayments  PercentFunded  Recommendations  \\\n",
       "count                    113937.000000  113937.000000    113937.000000   \n",
       "mean                         25.142686       0.998584         0.048027   \n",
       "std                         275.657937       0.017919         0.332353   \n",
       "min                           0.000000       0.700000         0.000000   \n",
       "25%                           0.000000       1.000000         0.000000   \n",
       "50%                           0.000000       1.000000         0.000000   \n",
       "75%                           0.000000       1.000000         0.000000   \n",
       "max                       21117.900000       1.012500        39.000000   \n",
       "\n",
       "       InvestmentFromFriendsCount  InvestmentFromFriendsAmount      Investors  \n",
       "count               113937.000000                113937.000000  113937.000000  \n",
       "mean                     0.023460                    16.550751      80.475228  \n",
       "std                      0.232412                   294.545422     103.239020  \n",
       "min                      0.000000                     0.000000       1.000000  \n",
       "25%                      0.000000                     0.000000       2.000000  \n",
       "50%                      0.000000                     0.000000      44.000000  \n",
       "75%                      0.000000                     0.000000     115.000000  \n",
       "max                     33.000000                 25000.000000    1189.000000  \n",
       "\n",
       "[8 rows x 61 columns]"
      ]
     },
     "execution_count": 14,
     "metadata": {},
     "output_type": "execute_result"
    }
   ],
   "source": [
    "# Checking descriptive statistics summary of loan table\n",
    "\n",
    "loan.describe()"
   ]
  },
  {
   "cell_type": "markdown",
   "id": "21d60bba",
   "metadata": {},
   "source": [
    "### What is the structure of your dataset?\n",
    "\n",
    "> The dataset contains 81 columns and 113937 rows.\n",
    "\n",
    "### What is/are the main feature(s) of interest in your dataset?\n",
    "\n",
    "> The main features of interest are Borrower's Loan status (LoanStatus), Borrower's Annual Percentage Rate (BorrowerAPR), Borrower's interest rate (BorrowerRate).\n",
    "\n",
    "### What features in the dataset do you think will help support your investigation into your feature(s) of interest?\n",
    "\n",
    "> The features in the dataset that would support the into my features of interest are Borrower's occupation (Occupation), Borrower's employment status (EmploymentStatus), Borrower's Income Range (IncomeRange), Borrower's Monthly Income (StatedMonthlyIncome) Loan Investors (Investors), Loan Term (Term)."
   ]
  },
  {
   "cell_type": "markdown",
   "id": "7e00302b",
   "metadata": {},
   "source": [
    "### Quality Issues"
   ]
  },
  {
   "cell_type": "markdown",
   "id": "852dffab",
   "metadata": {},
   "source": [
    "1. Some columns are not needed.\n",
    "2. Missing values are present in needed columns.\n",
    "3. Some columns are in the wrong data type."
   ]
  },
  {
   "cell_type": "markdown",
   "id": "e6214701",
   "metadata": {},
   "source": [
    "#### Columns Not Needed\n",
    "\n"
   ]
  },
  {
   "cell_type": "markdown",
   "id": "311143f4",
   "metadata": {},
   "source": [
    "ListingKey, ListingNumber, ListingCreationDate, CreditGrade, LenderYield, LenderYield, EstimatedEffectiveYield, EstimatedLoss, EstimatedReturn, ProsperRating(Numeric), ProsperRating(Alpha), CurrentlyInGroup, GroupKey, DateCreditPulled, FirstRecordedCreditLine, CurrentCreditLines, OpenCreditLines, TotalCreditLinespast7years, OpenRevolvingAccounts, OpenRevolvingMonthlyPayment, InquiriesLast6Months, TotalInquiries, CurrentDelinquencies, AmountDelinquent, DelinquenciesLast7Years, PublicRecordsLast10Years, PublicRecordsLast12Months, RevolvingCreditBalance, BankcardUtilization, TotalTrades, TradesNeverDelinquent, TradesOpenedLast6Months, MemberKey, MonthlyLoanPayment, LP_CustomerPayments, LP_CustomerPrincipalPayments, LP_InterestandFees, LP_ServiceFees,LP_CollectionFees, LP_GrossPrincipalLoss, LP_NetPrincipalLoss, LP_NonPrincipalRecoverypayments, InvestmentFromFriendsCount, InvestmentFromFriendsAmount"
   ]
  },
  {
   "cell_type": "markdown",
   "id": "fae20b0d",
   "metadata": {},
   "source": [
    "#### Needed columns in the wrong datatype\n",
    "\n",
    "1. LoanOriginationDate change to datetime datatype\n",
    "2. ListingCategory (numeric) to category datatype\n",
    "3. EmploymentStatus to category datatype\n",
    "4. IncomeRange to category datatype\n",
    "5. LoanStatus to category datatype"
   ]
  },
  {
   "cell_type": "markdown",
   "id": "bd6c041f",
   "metadata": {},
   "source": [
    "### Data Cleaning"
   ]
  },
  {
   "cell_type": "markdown",
   "id": "269b8a11",
   "metadata": {},
   "source": [
    "In this section, loan dataframe would be cleaned for quality issues."
   ]
  },
  {
   "cell_type": "code",
   "execution_count": 15,
   "id": "67e9d567",
   "metadata": {},
   "outputs": [],
   "source": [
    "# create a copy of loan DataFrame\n",
    "\n",
    "prosper_loan = loan.copy()"
   ]
  },
  {
   "cell_type": "code",
   "execution_count": 16,
   "id": "e411d14b",
   "metadata": {},
   "outputs": [],
   "source": [
    "# drop columns not needed\n",
    "\n",
    "prosper_loan.drop(['ListingKey', 'ListingNumber', 'ListingCreationDate', 'ClosedDate','CreditGrade', 'LenderYield', 'EstimatedEffectiveYield', 'EstimatedLoss', 'EstimatedReturn', 'ProsperScore', 'ProsperRating (Alpha)', 'CurrentlyInGroup', 'GroupKey', 'DateCreditPulled', 'FirstRecordedCreditLine', 'CurrentCreditLines', 'OpenCreditLines', 'TotalCreditLinespast7years', 'OpenRevolvingAccounts', 'OpenRevolvingMonthlyPayment', 'InquiriesLast6Months', 'TotalInquiries', 'CurrentDelinquencies', 'AmountDelinquent', 'DelinquenciesLast7Years', 'PublicRecordsLast10Years', 'PublicRecordsLast12Months', 'RevolvingCreditBalance', 'BankcardUtilization', 'TotalTrades', 'TradesNeverDelinquent (percentage)', 'TradesOpenedLast6Months', 'MemberKey', 'MonthlyLoanPayment', 'LP_CustomerPayments', 'LP_CustomerPrincipalPayments', 'LP_InterestandFees', 'LP_ServiceFees','LP_CollectionFees', 'LP_GrossPrincipalLoss', 'LP_NetPrincipalLoss', 'LP_NonPrincipalRecoverypayments', 'InvestmentFromFriendsCount', 'InvestmentFromFriendsAmount', 'Recommendations'], axis=1, inplace=True)"
   ]
  },
  {
   "cell_type": "code",
   "execution_count": 17,
   "id": "72c17b4a",
   "metadata": {},
   "outputs": [
    {
     "data": {
      "text/html": [
       "<div>\n",
       "<style scoped>\n",
       "    .dataframe tbody tr th:only-of-type {\n",
       "        vertical-align: middle;\n",
       "    }\n",
       "\n",
       "    .dataframe tbody tr th {\n",
       "        vertical-align: top;\n",
       "    }\n",
       "\n",
       "    .dataframe thead th {\n",
       "        text-align: right;\n",
       "    }\n",
       "</style>\n",
       "<table border=\"1\" class=\"dataframe\">\n",
       "  <thead>\n",
       "    <tr style=\"text-align: right;\">\n",
       "      <th></th>\n",
       "      <th>Term</th>\n",
       "      <th>LoanStatus</th>\n",
       "      <th>BorrowerAPR</th>\n",
       "      <th>BorrowerRate</th>\n",
       "      <th>ProsperRating (numeric)</th>\n",
       "      <th>ListingCategory (numeric)</th>\n",
       "      <th>BorrowerState</th>\n",
       "      <th>Occupation</th>\n",
       "      <th>EmploymentStatus</th>\n",
       "      <th>EmploymentStatusDuration</th>\n",
       "      <th>...</th>\n",
       "      <th>ScorexChangeAtTimeOfListing</th>\n",
       "      <th>LoanCurrentDaysDelinquent</th>\n",
       "      <th>LoanFirstDefaultedCycleNumber</th>\n",
       "      <th>LoanMonthsSinceOrigination</th>\n",
       "      <th>LoanNumber</th>\n",
       "      <th>LoanOriginalAmount</th>\n",
       "      <th>LoanOriginationDate</th>\n",
       "      <th>LoanOriginationQuarter</th>\n",
       "      <th>PercentFunded</th>\n",
       "      <th>Investors</th>\n",
       "    </tr>\n",
       "  </thead>\n",
       "  <tbody>\n",
       "    <tr>\n",
       "      <th>0</th>\n",
       "      <td>36</td>\n",
       "      <td>Completed</td>\n",
       "      <td>0.16516</td>\n",
       "      <td>0.1580</td>\n",
       "      <td>NaN</td>\n",
       "      <td>0</td>\n",
       "      <td>CO</td>\n",
       "      <td>Other</td>\n",
       "      <td>Self-employed</td>\n",
       "      <td>2.0</td>\n",
       "      <td>...</td>\n",
       "      <td>NaN</td>\n",
       "      <td>0</td>\n",
       "      <td>NaN</td>\n",
       "      <td>78</td>\n",
       "      <td>19141</td>\n",
       "      <td>9425</td>\n",
       "      <td>9/12/2007 0:00</td>\n",
       "      <td>Q3 2007</td>\n",
       "      <td>1.0</td>\n",
       "      <td>258</td>\n",
       "    </tr>\n",
       "    <tr>\n",
       "      <th>1</th>\n",
       "      <td>36</td>\n",
       "      <td>Current</td>\n",
       "      <td>0.12016</td>\n",
       "      <td>0.0920</td>\n",
       "      <td>6.0</td>\n",
       "      <td>2</td>\n",
       "      <td>CO</td>\n",
       "      <td>Professional</td>\n",
       "      <td>Employed</td>\n",
       "      <td>44.0</td>\n",
       "      <td>...</td>\n",
       "      <td>NaN</td>\n",
       "      <td>0</td>\n",
       "      <td>NaN</td>\n",
       "      <td>0</td>\n",
       "      <td>134815</td>\n",
       "      <td>10000</td>\n",
       "      <td>3/3/2014 0:00</td>\n",
       "      <td>Q1 2014</td>\n",
       "      <td>1.0</td>\n",
       "      <td>1</td>\n",
       "    </tr>\n",
       "    <tr>\n",
       "      <th>2</th>\n",
       "      <td>36</td>\n",
       "      <td>Completed</td>\n",
       "      <td>0.28269</td>\n",
       "      <td>0.2750</td>\n",
       "      <td>NaN</td>\n",
       "      <td>0</td>\n",
       "      <td>GA</td>\n",
       "      <td>Other</td>\n",
       "      <td>Not available</td>\n",
       "      <td>NaN</td>\n",
       "      <td>...</td>\n",
       "      <td>NaN</td>\n",
       "      <td>0</td>\n",
       "      <td>NaN</td>\n",
       "      <td>86</td>\n",
       "      <td>6466</td>\n",
       "      <td>3001</td>\n",
       "      <td>1/17/2007 0:00</td>\n",
       "      <td>Q1 2007</td>\n",
       "      <td>1.0</td>\n",
       "      <td>41</td>\n",
       "    </tr>\n",
       "    <tr>\n",
       "      <th>3</th>\n",
       "      <td>36</td>\n",
       "      <td>Current</td>\n",
       "      <td>0.12528</td>\n",
       "      <td>0.0974</td>\n",
       "      <td>6.0</td>\n",
       "      <td>16</td>\n",
       "      <td>GA</td>\n",
       "      <td>Skilled Labor</td>\n",
       "      <td>Employed</td>\n",
       "      <td>113.0</td>\n",
       "      <td>...</td>\n",
       "      <td>NaN</td>\n",
       "      <td>0</td>\n",
       "      <td>NaN</td>\n",
       "      <td>16</td>\n",
       "      <td>77296</td>\n",
       "      <td>10000</td>\n",
       "      <td>11/1/2012 0:00</td>\n",
       "      <td>Q4 2012</td>\n",
       "      <td>1.0</td>\n",
       "      <td>158</td>\n",
       "    </tr>\n",
       "    <tr>\n",
       "      <th>4</th>\n",
       "      <td>36</td>\n",
       "      <td>Current</td>\n",
       "      <td>0.24614</td>\n",
       "      <td>0.2085</td>\n",
       "      <td>3.0</td>\n",
       "      <td>2</td>\n",
       "      <td>MN</td>\n",
       "      <td>Executive</td>\n",
       "      <td>Employed</td>\n",
       "      <td>44.0</td>\n",
       "      <td>...</td>\n",
       "      <td>NaN</td>\n",
       "      <td>0</td>\n",
       "      <td>NaN</td>\n",
       "      <td>6</td>\n",
       "      <td>102670</td>\n",
       "      <td>15000</td>\n",
       "      <td>9/20/2013 0:00</td>\n",
       "      <td>Q3 2013</td>\n",
       "      <td>1.0</td>\n",
       "      <td>20</td>\n",
       "    </tr>\n",
       "  </tbody>\n",
       "</table>\n",
       "<p>5 rows × 36 columns</p>\n",
       "</div>"
      ],
      "text/plain": [
       "   Term LoanStatus  BorrowerAPR  BorrowerRate  ProsperRating (numeric)  \\\n",
       "0    36  Completed      0.16516        0.1580                      NaN   \n",
       "1    36    Current      0.12016        0.0920                      6.0   \n",
       "2    36  Completed      0.28269        0.2750                      NaN   \n",
       "3    36    Current      0.12528        0.0974                      6.0   \n",
       "4    36    Current      0.24614        0.2085                      3.0   \n",
       "\n",
       "   ListingCategory (numeric) BorrowerState     Occupation EmploymentStatus  \\\n",
       "0                          0            CO          Other    Self-employed   \n",
       "1                          2            CO   Professional         Employed   \n",
       "2                          0            GA          Other    Not available   \n",
       "3                         16            GA  Skilled Labor         Employed   \n",
       "4                          2            MN      Executive         Employed   \n",
       "\n",
       "   EmploymentStatusDuration  ...  ScorexChangeAtTimeOfListing  \\\n",
       "0                       2.0  ...                          NaN   \n",
       "1                      44.0  ...                          NaN   \n",
       "2                       NaN  ...                          NaN   \n",
       "3                     113.0  ...                          NaN   \n",
       "4                      44.0  ...                          NaN   \n",
       "\n",
       "   LoanCurrentDaysDelinquent  LoanFirstDefaultedCycleNumber  \\\n",
       "0                          0                            NaN   \n",
       "1                          0                            NaN   \n",
       "2                          0                            NaN   \n",
       "3                          0                            NaN   \n",
       "4                          0                            NaN   \n",
       "\n",
       "   LoanMonthsSinceOrigination  LoanNumber LoanOriginalAmount  \\\n",
       "0                          78       19141               9425   \n",
       "1                           0      134815              10000   \n",
       "2                          86        6466               3001   \n",
       "3                          16       77296              10000   \n",
       "4                           6      102670              15000   \n",
       "\n",
       "   LoanOriginationDate  LoanOriginationQuarter PercentFunded  Investors  \n",
       "0       9/12/2007 0:00                 Q3 2007           1.0        258  \n",
       "1        3/3/2014 0:00                 Q1 2014           1.0          1  \n",
       "2       1/17/2007 0:00                 Q1 2007           1.0         41  \n",
       "3       11/1/2012 0:00                 Q4 2012           1.0        158  \n",
       "4       9/20/2013 0:00                 Q3 2013           1.0         20  \n",
       "\n",
       "[5 rows x 36 columns]"
      ]
     },
     "execution_count": 17,
     "metadata": {},
     "output_type": "execute_result"
    }
   ],
   "source": [
    "# display the first five rows of prosper_loan table\n",
    "\n",
    "prosper_loan.head()"
   ]
  },
  {
   "cell_type": "code",
   "execution_count": 18,
   "id": "03a0c9f3",
   "metadata": {},
   "outputs": [],
   "source": [
    "# convert LoanOriginationDate datatype from object to datetime\n",
    "\n",
    "prosper_loan['LoanOriginationDate'] = prosper_loan['LoanOriginationDate'].astype('datetime64[ns]')"
   ]
  },
  {
   "cell_type": "code",
   "execution_count": 19,
   "id": "d0bdb094",
   "metadata": {},
   "outputs": [],
   "source": [
    "# convert ListingCategory (numeric) to category datatype\n",
    "\n",
    "prosper_loan = prosper_loan.astype({\"ListingCategory (numeric)\":'category', \"EmploymentStatus\" : 'category', \"ProsperRating (numeric)\" : 'category', \"IncomeRange\" : 'category', \"LoanStatus\" : 'category'})"
   ]
  },
  {
   "cell_type": "code",
   "execution_count": 20,
   "id": "5d2306f5",
   "metadata": {},
   "outputs": [
    {
     "name": "stdout",
     "output_type": "stream",
     "text": [
      "<class 'pandas.core.frame.DataFrame'>\n",
      "RangeIndex: 113937 entries, 0 to 113936\n",
      "Data columns (total 36 columns):\n",
      " #   Column                               Non-Null Count   Dtype         \n",
      "---  ------                               --------------   -----         \n",
      " 0   Term                                 113937 non-null  int64         \n",
      " 1   LoanStatus                           113937 non-null  category      \n",
      " 2   BorrowerAPR                          113912 non-null  float64       \n",
      " 3   BorrowerRate                         113937 non-null  float64       \n",
      " 4   ProsperRating (numeric)              84853 non-null   category      \n",
      " 5   ListingCategory (numeric)            113937 non-null  category      \n",
      " 6   BorrowerState                        108422 non-null  object        \n",
      " 7   Occupation                           110349 non-null  object        \n",
      " 8   EmploymentStatus                     111682 non-null  category      \n",
      " 9   EmploymentStatusDuration             106312 non-null  float64       \n",
      " 10  IsBorrowerHomeowner                  113937 non-null  bool          \n",
      " 11  CreditScoreRangeLower                113346 non-null  float64       \n",
      " 12  CreditScoreRangeUpper                113346 non-null  float64       \n",
      " 13  AvailableBankcardCredit              106393 non-null  float64       \n",
      " 14  DebtToIncomeRatio                    105383 non-null  float64       \n",
      " 15  IncomeRange                          113937 non-null  category      \n",
      " 16  IncomeVerifiable                     113937 non-null  bool          \n",
      " 17  StatedMonthlyIncome                  113937 non-null  float64       \n",
      " 18  LoanKey                              113937 non-null  object        \n",
      " 19  TotalProsperLoans                    22085 non-null   float64       \n",
      " 20  TotalProsperPaymentsBilled           22085 non-null   float64       \n",
      " 21  OnTimeProsperPayments                22085 non-null   float64       \n",
      " 22  ProsperPaymentsLessThanOneMonthLate  22085 non-null   float64       \n",
      " 23  ProsperPaymentsOneMonthPlusLate      22085 non-null   float64       \n",
      " 24  ProsperPrincipalBorrowed             22085 non-null   float64       \n",
      " 25  ProsperPrincipalOutstanding          22085 non-null   float64       \n",
      " 26  ScorexChangeAtTimeOfListing          18928 non-null   float64       \n",
      " 27  LoanCurrentDaysDelinquent            113937 non-null  int64         \n",
      " 28  LoanFirstDefaultedCycleNumber        16952 non-null   float64       \n",
      " 29  LoanMonthsSinceOrigination           113937 non-null  int64         \n",
      " 30  LoanNumber                           113937 non-null  int64         \n",
      " 31  LoanOriginalAmount                   113937 non-null  int64         \n",
      " 32  LoanOriginationDate                  113937 non-null  datetime64[ns]\n",
      " 33  LoanOriginationQuarter               113937 non-null  object        \n",
      " 34  PercentFunded                        113937 non-null  float64       \n",
      " 35  Investors                            113937 non-null  int64         \n",
      "dtypes: bool(2), category(5), datetime64[ns](1), float64(18), int64(6), object(4)\n",
      "memory usage: 26.0+ MB\n"
     ]
    }
   ],
   "source": [
    "# display columns info\n",
    "\n",
    "prosper_loan.info()"
   ]
  },
  {
   "cell_type": "code",
   "execution_count": 21,
   "id": "a8c32448",
   "metadata": {},
   "outputs": [],
   "source": [
    "# Change values in ListingCategory variable to be Ordinal\n",
    "\n",
    "# create a dictionary key for listingcategory (numeric)\n",
    "listing_category_dict = {0: 'Not Available', 1: 'Debt Consolidation', 2: 'Home Improvement', 3: 'Business', 4: 'Personal Loan',\n",
    "                   5: 'Student Use', 6: 'Auto', 7: 'Other', 8: 'Baby& Adoption', 9: 'Boat', \n",
    "                   10: 'Cosmetic Procedure', 11: 'Engagement Ring', 12: ' Green Loans', 13: 'Household Expenses', 14: 'Large purchases', \n",
    "                   15: 'Medical/Dental', 16: 'Motorcycle', 17: 'RV', 18: 'Taxes', 19: 'Vacation', 20: 'Wedding Loans'}"
   ]
  },
  {
   "cell_type": "code",
   "execution_count": 22,
   "id": "37dfa30f",
   "metadata": {},
   "outputs": [],
   "source": [
    "# create a new column 'listing_category' to show the new categorical variables\n",
    "\n",
    "prosper_loan['listing_category'] = prosper_loan['ListingCategory (numeric)'].map(listing_category_dict)"
   ]
  },
  {
   "cell_type": "code",
   "execution_count": 23,
   "id": "15294167",
   "metadata": {},
   "outputs": [
    {
     "data": {
      "text/plain": [
       "Debt Consolidation    58308\n",
       "Not Available         16965\n",
       "Other                 10494\n",
       "Home Improvement       7433\n",
       "Business               7189\n",
       "Auto                   2572\n",
       "Personal Loan          2395\n",
       "Household Expenses     1996\n",
       "Medical/Dental         1522\n",
       "Taxes                   885\n",
       "Large purchases         876\n",
       "Wedding Loans           771\n",
       "Vacation                768\n",
       "Student Use             756\n",
       "Motorcycle              304\n",
       "Engagement Ring         217\n",
       "Baby& Adoption          199\n",
       "Cosmetic Procedure       91\n",
       "Boat                     85\n",
       " Green Loans             59\n",
       "RV                       52\n",
       "Name: listing_category, dtype: int64"
      ]
     },
     "execution_count": 23,
     "metadata": {},
     "output_type": "execute_result"
    }
   ],
   "source": [
    "# count unique values in listing_category column\n",
    "\n",
    "prosper_loan.listing_category.value_counts()"
   ]
  },
  {
   "cell_type": "code",
   "execution_count": 24,
   "id": "0e2c94ae",
   "metadata": {},
   "outputs": [],
   "source": [
    "# Change values in ProsperRating (numeric) variable to be Ordinal\n",
    "\n",
    "# create a dictionary key for ProsperRating (numeric)\n",
    "\n",
    "prosper_rating_dict = {0: 'N/A', 1: 'HR', 2: 'E', 3: 'D', 4: 'C', 5: 'B', 6: 'A', 7: 'AA'}"
   ]
  },
  {
   "cell_type": "code",
   "execution_count": 25,
   "id": "59b8afc6",
   "metadata": {},
   "outputs": [],
   "source": [
    "# map ProsperRating (numeric)\n",
    "\n",
    "prosper_loan['prosper_rating'] = prosper_loan['ProsperRating (numeric)'].map(prosper_rating_dict)"
   ]
  },
  {
   "cell_type": "code",
   "execution_count": 26,
   "id": "9ade89c1",
   "metadata": {},
   "outputs": [
    {
     "data": {
      "text/plain": [
       "C     18345\n",
       "B     15581\n",
       "A     14551\n",
       "D     14274\n",
       "E      9795\n",
       "HR     6935\n",
       "AA     5372\n",
       "Name: prosper_rating, dtype: int64"
      ]
     },
     "execution_count": 26,
     "metadata": {},
     "output_type": "execute_result"
    }
   ],
   "source": [
    "# count ordinal values prosper_rating \n",
    "\n",
    "prosper_loan.prosper_rating.value_counts()"
   ]
  },
  {
   "cell_type": "code",
   "execution_count": 27,
   "id": "8013192c",
   "metadata": {},
   "outputs": [
    {
     "data": {
      "text/plain": [
       "Term                                            int64\n",
       "LoanStatus                                   category\n",
       "BorrowerAPR                                   float64\n",
       "BorrowerRate                                  float64\n",
       "ProsperRating (numeric)                      category\n",
       "ListingCategory (numeric)                    category\n",
       "BorrowerState                                  object\n",
       "Occupation                                     object\n",
       "EmploymentStatus                             category\n",
       "EmploymentStatusDuration                      float64\n",
       "IsBorrowerHomeowner                              bool\n",
       "CreditScoreRangeLower                         float64\n",
       "CreditScoreRangeUpper                         float64\n",
       "AvailableBankcardCredit                       float64\n",
       "DebtToIncomeRatio                             float64\n",
       "IncomeRange                                  category\n",
       "IncomeVerifiable                                 bool\n",
       "StatedMonthlyIncome                           float64\n",
       "LoanKey                                        object\n",
       "TotalProsperLoans                             float64\n",
       "TotalProsperPaymentsBilled                    float64\n",
       "OnTimeProsperPayments                         float64\n",
       "ProsperPaymentsLessThanOneMonthLate           float64\n",
       "ProsperPaymentsOneMonthPlusLate               float64\n",
       "ProsperPrincipalBorrowed                      float64\n",
       "ProsperPrincipalOutstanding                   float64\n",
       "ScorexChangeAtTimeOfListing                   float64\n",
       "LoanCurrentDaysDelinquent                       int64\n",
       "LoanFirstDefaultedCycleNumber                 float64\n",
       "LoanMonthsSinceOrigination                      int64\n",
       "LoanNumber                                      int64\n",
       "LoanOriginalAmount                              int64\n",
       "LoanOriginationDate                    datetime64[ns]\n",
       "LoanOriginationQuarter                         object\n",
       "PercentFunded                                 float64\n",
       "Investors                                       int64\n",
       "listing_category                             category\n",
       "prosper_rating                               category\n",
       "dtype: object"
      ]
     },
     "execution_count": 27,
     "metadata": {},
     "output_type": "execute_result"
    }
   ],
   "source": [
    "# prosper_loan columns datatypes\n",
    "\n",
    "prosper_loan.dtypes"
   ]
  },
  {
   "cell_type": "code",
   "execution_count": 28,
   "id": "fef0d353",
   "metadata": {},
   "outputs": [
    {
     "data": {
      "text/plain": [
       "Occupation\n",
       "Other                          28617\n",
       "Professional                   13628\n",
       "Computer Programmer             4478\n",
       "Executive                       4311\n",
       "Teacher                         3759\n",
       "                               ...  \n",
       "Dentist                           68\n",
       "Student - College Freshman        41\n",
       "Student - Community College       28\n",
       "Judge                             22\n",
       "Student - Technical School        16\n",
       "Length: 67, dtype: int64"
      ]
     },
     "execution_count": 28,
     "metadata": {},
     "output_type": "execute_result"
    }
   ],
   "source": [
    "# count values in Occupation column\n",
    "\n",
    "prosper_loan.value_counts('Occupation')"
   ]
  },
  {
   "cell_type": "code",
   "execution_count": 29,
   "id": "3a09e72f",
   "metadata": {},
   "outputs": [
    {
     "data": {
      "text/plain": [
       "EmploymentStatus\n",
       "Employed         67322\n",
       "Full-time        26355\n",
       "Self-employed     6134\n",
       "Not available     5347\n",
       "Other             3806\n",
       "Part-time         1088\n",
       "Not employed       835\n",
       "Retired            795\n",
       "dtype: int64"
      ]
     },
     "execution_count": 29,
     "metadata": {},
     "output_type": "execute_result"
    }
   ],
   "source": [
    "# count values in EmploymentStattus column\n",
    "\n",
    "prosper_loan.value_counts('EmploymentStatus')"
   ]
  },
  {
   "cell_type": "code",
   "execution_count": 30,
   "id": "710ed0c1",
   "metadata": {},
   "outputs": [
    {
     "data": {
      "text/plain": [
       "IncomeRange\n",
       "$25,000-49,999    32192\n",
       "$50,000-74,999    31050\n",
       "$100,000+         17337\n",
       "$75,000-99,999    16916\n",
       "Not displayed      7741\n",
       "$1-24,999          7274\n",
       "Not employed        806\n",
       "$0                  621\n",
       "dtype: int64"
      ]
     },
     "execution_count": 30,
     "metadata": {},
     "output_type": "execute_result"
    }
   ],
   "source": [
    "# count values in IncomeRange column\n",
    "\n",
    "prosper_loan.value_counts('IncomeRange')"
   ]
  },
  {
   "cell_type": "code",
   "execution_count": 31,
   "id": "961458c1",
   "metadata": {
    "scrolled": true
   },
   "outputs": [
    {
     "data": {
      "text/plain": [
       "ListingCategory (numeric)\n",
       "1     58308\n",
       "0     16965\n",
       "7     10494\n",
       "2      7433\n",
       "3      7189\n",
       "6      2572\n",
       "4      2395\n",
       "13     1996\n",
       "15     1522\n",
       "18      885\n",
       "14      876\n",
       "20      771\n",
       "19      768\n",
       "5       756\n",
       "16      304\n",
       "11      217\n",
       "8       199\n",
       "10       91\n",
       "9        85\n",
       "12       59\n",
       "17       52\n",
       "dtype: int64"
      ]
     },
     "execution_count": 31,
     "metadata": {},
     "output_type": "execute_result"
    }
   ],
   "source": [
    "# count values in ListingCategory (numeric)\n",
    "\n",
    "prosper_loan.value_counts('ListingCategory (numeric)')"
   ]
  },
  {
   "cell_type": "code",
   "execution_count": 32,
   "id": "b176a707",
   "metadata": {},
   "outputs": [
    {
     "data": {
      "text/plain": [
       "LoanOriginationDate\n",
       "2014-01-22    491\n",
       "2013-11-13    490\n",
       "2014-02-19    439\n",
       "2013-10-16    434\n",
       "2014-01-28    339\n",
       "             ... \n",
       "2009-07-24      1\n",
       "2009-07-23      1\n",
       "2008-10-17      1\n",
       "2005-11-18      1\n",
       "2005-11-15      1\n",
       "Length: 1873, dtype: int64"
      ]
     },
     "execution_count": 32,
     "metadata": {},
     "output_type": "execute_result"
    }
   ],
   "source": [
    "# count values in LoanOriginationDate\n",
    "\n",
    "prosper_loan.value_counts('LoanOriginationDate')"
   ]
  },
  {
   "cell_type": "code",
   "execution_count": 33,
   "id": "fefd13c2",
   "metadata": {},
   "outputs": [],
   "source": [
    "# convert the LoanOriginationDate to datetime\n",
    "\n",
    "# add a column for Year\n",
    "prosper_loan['Year'] = prosper_loan['LoanOriginationDate'].dt.year"
   ]
  },
  {
   "cell_type": "code",
   "execution_count": 34,
   "id": "53dc61a8",
   "metadata": {},
   "outputs": [
    {
     "data": {
      "text/plain": [
       "array([2007, 2014, 2012, 2013, 2006, 2010, 2011, 2008, 2009, 2005],\n",
       "      dtype=int64)"
      ]
     },
     "execution_count": 34,
     "metadata": {},
     "output_type": "execute_result"
    }
   ],
   "source": [
    "# display unique values in Year\n",
    "\n",
    "prosper_loan.Year.unique()"
   ]
  },
  {
   "cell_type": "markdown",
   "id": "14f7ddbf",
   "metadata": {},
   "source": [
    "## Univariate Exploration"
   ]
  },
  {
   "cell_type": "markdown",
   "id": "5cbfca8a",
   "metadata": {},
   "source": [
    "#### Visualize Employment Status of Borrowers using Seaborn CountPlot"
   ]
  },
  {
   "cell_type": "code",
   "execution_count": 35,
   "id": "83b53436",
   "metadata": {},
   "outputs": [
    {
     "data": {
      "image/png": "[encoded data removed]",
      "text/plain": [
       "<Figure size 864x360 with 1 Axes>"
      ]
     },
     "metadata": {
      "needs_background": "light"
     },
     "output_type": "display_data"
    }
   ],
   "source": [
    "# figuresize\n",
    "plt.figure(figsize = [12, 5])\n",
    "\n",
    "# bar color\n",
    "base_color = 'darkred'\n",
    "\n",
    "# countplot\n",
    "sns.countplot(data = prosper_loan, x = 'EmploymentStatus', color = base_color);\n",
    "plt.xlabel('Employment Status', fontsize = '13')\n",
    "plt.ylabel('Count', fontsize = '13' )\n",
    "plt.title('Borrowers Employment Status', fontsize = 16);"
   ]
  },
  {
   "cell_type": "markdown",
   "id": "3b0eacbd",
   "metadata": {},
   "source": [
    "##### Observation(s)\n",
    "\n",
    "1. The highest number of borrowers fall in 'Employed' category.\n",
    "2. Borrowers who fall in Unempolyed, Part-time, Retired categories are the least number of borrowers."
   ]
  },
  {
   "cell_type": "markdown",
   "id": "9962177a",
   "metadata": {},
   "source": [
    "#### Visualize Borrowers Income Range Using Seaborn Countplot"
   ]
  },
  {
   "cell_type": "code",
   "execution_count": 36,
   "id": "52bb93eb",
   "metadata": {},
   "outputs": [
    {
     "data": {
      "image/png": "[encoded data removed]",
      "text/plain": [
       "<Figure size 864x360 with 1 Axes>"
      ]
     },
     "metadata": {
      "needs_background": "light"
     },
     "output_type": "display_data"
    }
   ],
   "source": [
    "# figuresize\n",
    "plt.figure(figsize = [12, 5])\n",
    "\n",
    "# bar color\n",
    "base_color = 'blue'\n",
    "\n",
    "# countplot\n",
    "sns.countplot(data = prosper_loan, y = 'IncomeRange', color = base_color);\n",
    "plt.xlabel('Count', fontsize = '13');\n",
    "plt.ylabel('Income Range', fontsize = '13');\n",
    "plt.title('Borrowers Income Range', fontsize = 16);"
   ]
  },
  {
   "cell_type": "markdown",
   "id": "42fcba01",
   "metadata": {},
   "source": [
    "#### Observation(s)\n",
    "\n",
    "1. Employed borrowers who earn $25,000 - $49,999 are more than borrowers in other income range.\n",
    "2. Borrowers who earn $0 or unemployed are least in the income range table."
   ]
  },
  {
   "cell_type": "markdown",
   "id": "d8a63e97",
   "metadata": {},
   "source": [
    "#### Visualize Borrowers Occupation"
   ]
  },
  {
   "cell_type": "code",
   "execution_count": 37,
   "id": "198e9f31",
   "metadata": {},
   "outputs": [
    {
     "data": {
      "text/plain": [
       "Text(0.5, 1.0, 'Borrowers Occupation')"
      ]
     },
     "execution_count": 37,
     "metadata": {},
     "output_type": "execute_result"
    },
    {
     "data": {
      "image/png": "[encoded data removed]",
      "text/plain": [
       "<Figure size 864x1440 with 1 Axes>"
      ]
     },
     "metadata": {
      "needs_background": "light"
     },
     "output_type": "display_data"
    }
   ],
   "source": [
    "# figuresize\n",
    "plt.figure(figsize = [12, 20])\n",
    "\n",
    "# countplot\n",
    "sns.countplot(y = 'Occupation', data = prosper_loan, order = prosper_loan['Occupation'].value_counts().index)\n",
    "plt.xlabel('Count', fontsize = '13')\n",
    "plt.ylabel('Occupation', fontsize = '13')\n",
    "plt.title('Borrowers Occupation')"
   ]
  },
  {
   "cell_type": "markdown",
   "id": "d8a4684c",
   "metadata": {},
   "source": [
    "Top five occupation of borrowers apart from 'Others' are Professional, Computer Programmer, Executive,Teacher, Administrative Assistant."
   ]
  },
  {
   "cell_type": "markdown",
   "id": "dd2d4094",
   "metadata": {},
   "source": [
    "#### Visualize Borrowers State"
   ]
  },
  {
   "cell_type": "code",
   "execution_count": 38,
   "id": "0a4ab6ef",
   "metadata": {},
   "outputs": [
    {
     "data": {
      "image/png": "[encoded data removed]",
      "text/plain": [
       "<Figure size 864x1440 with 1 Axes>"
      ]
     },
     "metadata": {
      "needs_background": "light"
     },
     "output_type": "display_data"
    }
   ],
   "source": [
    "# figuresize\n",
    "plt.figure(figsize = [12, 20])\n",
    "\n",
    "# bar color\n",
    "base_color = 'blue'\n",
    "\n",
    "# countplot\n",
    "sns.countplot(data = prosper_loan, y = 'BorrowerState', color = base_color, order = prosper_loan['BorrowerState'].value_counts().index);\n",
    "plt.xlabel('Count', fontsize = '13');\n",
    "plt.ylabel('Borrower State', fontsize = '13');\n",
    "plt.title('Borrowers State Count', fontsize = '16');"
   ]
  },
  {
   "cell_type": "markdown",
   "id": "879d83e5",
   "metadata": {},
   "source": [
    "#### Visualize Prosper Rating Count"
   ]
  },
  {
   "cell_type": "code",
   "execution_count": 39,
   "id": "524336f3",
   "metadata": {},
   "outputs": [
    {
     "data": {
      "image/png": "[encoded data removed]",
      "text/plain": [
       "<Figure size 864x360 with 1 Axes>"
      ]
     },
     "metadata": {
      "needs_background": "light"
     },
     "output_type": "display_data"
    }
   ],
   "source": [
    "plt.figure(figsize = [12, 5])\n",
    "\n",
    "# bar color\n",
    "base_color = 'darkred'\n",
    "\n",
    "# countplot\n",
    "sns.countplot(data = prosper_loan, x = 'prosper_rating', color = base_color);\n",
    "plt.xlabel('Prosper Rating', fontsize = '13');\n",
    "plt.ylabel('Count', fontsize = '13')\n",
    "plt.title('Prosper Rating Count', fontsize = 16);"
   ]
  },
  {
   "cell_type": "markdown",
   "id": "681ca569",
   "metadata": {},
   "source": [
    "#### Observation(s)\n",
    "\n",
    "1. Borrowers with 'C' prosper rating are more than borrowers with other prosper ratings."
   ]
  },
  {
   "cell_type": "markdown",
   "id": "b527d017",
   "metadata": {},
   "source": [
    "#### Visualize the Distribution of Lower Bounds of Credit Score and Upper Bounds of Credit Score"
   ]
  },
  {
   "cell_type": "code",
   "execution_count": 40,
   "id": "0fed9a69",
   "metadata": {},
   "outputs": [
    {
     "data": {
      "image/png": "[encoded data removed]",
      "text/plain": [
       "<Figure size 1440x432 with 2 Axes>"
      ]
     },
     "metadata": {
      "needs_background": "light"
     },
     "output_type": "display_data"
    }
   ],
   "source": [
    "plt.figure(figsize=[20,6])\n",
    "\n",
    "plt.subplot(1,2,1)\n",
    "plt.hist(data = prosper_loan, x = 'CreditScoreRangeLower', color = base_color);\n",
    "plt.xlabel('Credit Score', fontsize = 13);\n",
    "plt.ylabel('Count', fontsize = 13);\n",
    "plt.title('Distribution of Lower Bounds of Credit Score', fontsize = 16);\n",
    "\n",
    "plt.subplot(1,2,2)\n",
    "plt.hist(data = prosper_loan, x = 'CreditScoreRangeUpper', color = base_color);\n",
    "plt.xlabel('Credit Score', fontsize = 13);\n",
    "plt.ylabel('Count', fontsize = 16);\n",
    "plt.title('Distribution of Upper Bounds of Credit Score', fontsize = 16);"
   ]
  },
  {
   "cell_type": "markdown",
   "id": "681e03a1",
   "metadata": {},
   "source": [
    "#### Observation(s)\n",
    "\n",
    "1. Lower bounds of credit score and Upper bound of credit score have the same values and distribution.\n",
    "2. Credit scores of range 600-700 have the highest distribution."
   ]
  },
  {
   "cell_type": "markdown",
   "id": "94ec55d7",
   "metadata": {},
   "source": [
    "#### Distribution of Borrower Annual Percentage Rate"
   ]
  },
  {
   "cell_type": "code",
   "execution_count": 41,
   "id": "b597c821",
   "metadata": {},
   "outputs": [
    {
     "data": {
      "image/png": "[encoded data removed]",
      "text/plain": [
       "<Figure size 864x360 with 1 Axes>"
      ]
     },
     "metadata": {
      "needs_background": "light"
     },
     "output_type": "display_data"
    }
   ],
   "source": [
    "# figuresize\n",
    "plt.figure(figsize=[12, 5])\n",
    "\n",
    "# distribution plot of Borrowers Annual Percentage Rate\n",
    "\n",
    "plt.hist(data = prosper_loan, x = 'BorrowerAPR', color = base_color, bins = 100);\n",
    "plt.xlabel('Borrower APR', fontsize = 13);\n",
    "plt.ylabel('Count', fontsize = 13);\n",
    "plt.title('Borrower Annual Percentage Rate', fontsize = 16);\n"
   ]
  },
  {
   "cell_type": "markdown",
   "id": "566aaee5",
   "metadata": {},
   "source": [
    "#### Observation(s)\n",
    "\n",
    "1. Borrowers annual percentage rate is highly distributed fom point 0.1 to 0.3"
   ]
  },
  {
   "cell_type": "markdown",
   "id": "b8e0231c",
   "metadata": {},
   "source": [
    "#### Visualize Loan Term"
   ]
  },
  {
   "cell_type": "code",
   "execution_count": 42,
   "id": "64034513",
   "metadata": {},
   "outputs": [
    {
     "data": {
      "image/png": "[encoded data removed]",
      "text/plain": [
       "<Figure size 864x360 with 1 Axes>"
      ]
     },
     "metadata": {
      "needs_background": "light"
     },
     "output_type": "display_data"
    }
   ],
   "source": [
    "# figuresize\n",
    "plt.figure(figsize = [12, 5])\n",
    "\n",
    "# bar color\n",
    "base_color = 'darkred'\n",
    "\n",
    "# countplot\n",
    "sns.countplot(data = prosper_loan, x = \"Term\", color = base_color);\n",
    "plt.xlabel('Term', fontsize = '13');\n",
    "plt.ylabel('Count', fontsize = '13');\n",
    "plt.title('Loan Term', fontsize = '16');"
   ]
  },
  {
   "cell_type": "markdown",
   "id": "36b50b46",
   "metadata": {},
   "source": [
    "#### Observation(s)\n",
    "\n",
    "1. The highest loan term is 60 months.\n",
    "2. Most approved loan term is 36 months."
   ]
  },
  {
   "cell_type": "markdown",
   "id": "fe678aab",
   "metadata": {},
   "source": [
    "#### Visualize Borrower Home Owner Status"
   ]
  },
  {
   "cell_type": "code",
   "execution_count": 43,
   "id": "9d0decae",
   "metadata": {
    "scrolled": true
   },
   "outputs": [
    {
     "data": {
      "image/png": "[encoded data removed]",
      "text/plain": [
       "<Figure size 864x360 with 1 Axes>"
      ]
     },
     "metadata": {
      "needs_background": "light"
     },
     "output_type": "display_data"
    }
   ],
   "source": [
    "# figuresize\n",
    "plt.figure(figsize = [12, 5])\n",
    "\n",
    "# bar color\n",
    "base_color = 'darkred'\n",
    "\n",
    "# countplot\n",
    "sns.countplot(data = prosper_loan, x = \"IsBorrowerHomeowner\", color = base_color);\n",
    "plt.xlabel('Home Owner', fontsize = '13');\n",
    "plt.ylabel('Count', fontsize = '13');\n",
    "plt.title('Is Borrower Home Owner');"
   ]
  },
  {
   "cell_type": "markdown",
   "id": "685fcccf",
   "metadata": {},
   "source": [
    "#### Observation(s)\n",
    "\n",
    "1. Most borrowers are Home owners.\n",
    "2. The difference between the number of count of home owners and number of count of borrowers who don't own a home is little."
   ]
  },
  {
   "cell_type": "code",
   "execution_count": 44,
   "id": "45e47e9d",
   "metadata": {},
   "outputs": [
    {
     "data": {
      "image/png": "[encoded data removed]",
      "text/plain": [
       "<Figure size 864x360 with 1 Axes>"
      ]
     },
     "metadata": {
      "needs_background": "light"
     },
     "output_type": "display_data"
    }
   ],
   "source": [
    "plt.figure(figsize = [12, 5])\n",
    "\n",
    "# bar color\n",
    "base_color = 'blue'\n",
    "\n",
    "# countplot\n",
    "sns.countplot(data = prosper_loan, x = \"IncomeVerifiable\", color = base_color);\n",
    "plt.xlabel('Income Verifiable', fontsize = '13');\n",
    "plt.ylabel('Count', fontsize = '13');\n",
    "plt.title('Is Income Verifiable');"
   ]
  },
  {
   "cell_type": "markdown",
   "id": "a2ee9221",
   "metadata": {},
   "source": [
    "#### Observation(s)\n",
    "\n",
    "1. Borrowers loan status are mostly verified."
   ]
  },
  {
   "cell_type": "markdown",
   "id": "6177b91b",
   "metadata": {},
   "source": [
    "#### Visualize Distribution of Loan Original Amount"
   ]
  },
  {
   "cell_type": "code",
   "execution_count": 45,
   "id": "dbb6a73d",
   "metadata": {},
   "outputs": [
    {
     "data": {
      "image/png": "[encoded data removed]",
      "text/plain": [
       "<Figure size 720x360 with 1 Axes>"
      ]
     },
     "metadata": {
      "needs_background": "light"
     },
     "output_type": "display_data"
    }
   ],
   "source": [
    "# figuresize\n",
    "fig = plt.figure(figsize = (10, 5))\n",
    "\n",
    "# plot histplot\n",
    "plt.hist(data = prosper_loan, x = 'LoanOriginalAmount', color = 'blue', bins = 100)\n",
    "plt.xlabel('Loan Original Amount', fontsize = 13)\n",
    "plt.ylabel('Count', fontsize = 13)\n",
    "plt.title('Distribution of Borrowers Original Loan Amount')\n",
    "\n",
    "plt.show()"
   ]
  },
  {
   "cell_type": "markdown",
   "id": "ea07a1f6",
   "metadata": {},
   "source": [
    "#### Observation(s)\n",
    "\n",
    "1. Less than 2000 Borrowers' loan original amount fall in the range of 25000 and 35000.\n",
    "2. The highest number of original loan amount is a little bit before $5000.\n"
   ]
  },
  {
   "cell_type": "markdown",
   "id": "702278b2",
   "metadata": {},
   "source": [
    "#### Distribution of Borrowers Annual Percentage Rate"
   ]
  },
  {
   "cell_type": "code",
   "execution_count": 46,
   "id": "02dbbd65",
   "metadata": {},
   "outputs": [
    {
     "data": {
      "image/png": "[encoded data removed]",
      "text/plain": [
       "<Figure size 720x360 with 1 Axes>"
      ]
     },
     "metadata": {
      "needs_background": "light"
     },
     "output_type": "display_data"
    }
   ],
   "source": [
    "# figuresize\n",
    "plt.figure(figsize=[10, 5])\n",
    "\n",
    "# distribution plot of Borrowers Annual Percentage Rate\n",
    "\n",
    "plt.hist(data = prosper_loan, x = 'BorrowerAPR', color = 'blue', bins = 100);\n",
    "plt.xlabel('Borrower APR', fontsize = 13);\n",
    "plt.ylabel('Count', fontsize = 13);\n",
    "plt.title('Borrower Annual Percentage Rate', fontsize = 16);\n"
   ]
  },
  {
   "cell_type": "markdown",
   "id": "468b81c8",
   "metadata": {},
   "source": [
    "#### Observation(s)\n",
    "\n",
    "1. The distribution of Borrowers Annual Percentage Ratte is right skewed."
   ]
  },
  {
   "cell_type": "markdown",
   "id": "038ede5f",
   "metadata": {},
   "source": [
    "#### Distribution of Borrowers Interest Rate"
   ]
  },
  {
   "cell_type": "code",
   "execution_count": 47,
   "id": "c78f0633",
   "metadata": {},
   "outputs": [
    {
     "data": {
      "text/plain": [
       "Text(0.5, 1.0, 'Borrowers Interest Rate')"
      ]
     },
     "execution_count": 47,
     "metadata": {},
     "output_type": "execute_result"
    },
    {
     "data": {
      "image/png": "[encoded data removed]",
      "text/plain": [
       "<Figure size 720x360 with 1 Axes>"
      ]
     },
     "metadata": {
      "needs_background": "light"
     },
     "output_type": "display_data"
    }
   ],
   "source": [
    "# figuresize\n",
    "fig = plt.figure(figsize = (10, 5))\n",
    "\n",
    "# plot histplot\n",
    "plt.hist(data = prosper_loan, x = 'BorrowerRate', color = 'blue', bins = 100)\n",
    "plt.xlabel('BorrowerRate', fontsize = 13)\n",
    "plt.ylabel('Count', fontsize = 13)\n",
    "plt.title('Borrowers Interest Rate', fontsize = '16')"
   ]
  },
  {
   "cell_type": "markdown",
   "id": "719a7e09",
   "metadata": {},
   "source": [
    "#### Observation(s)\n",
    "\n",
    "1. Interest rates were highly distributed from points 0.1 to 0.25.\n",
    "2. There was no distribution of interest rates at point 0.4  and above.\n",
    "3. The distribution plot shows a decline from point 1.5.\n",
    "4. A little above point 0.3 has the highest number of distributed interest rate."
   ]
  },
  {
   "cell_type": "markdown",
   "id": "e5d0540e",
   "metadata": {},
   "source": [
    "#### Visualize Borrowers Loan Status"
   ]
  },
  {
   "cell_type": "code",
   "execution_count": 48,
   "id": "aba3b0f4",
   "metadata": {},
   "outputs": [
    {
     "data": {
      "image/png": "[encoded data removed]",
      "text/plain": [
       "<Figure size 864x360 with 1 Axes>"
      ]
     },
     "metadata": {
      "needs_background": "light"
     },
     "output_type": "display_data"
    }
   ],
   "source": [
    "# figuresize\n",
    "plt.figure(figsize = [12, 5])\n",
    "\n",
    "# bar color\n",
    "base_color = 'blue'\n",
    "\n",
    "# countplot\n",
    "sns.countplot(data = prosper_loan, x = 'LoanStatus', color = base_color);\n",
    "plt.xlabel('Loan Status', fontsize = '13')\n",
    "plt.ylabel('Count', fontsize = '13' )\n",
    "plt.title('Borrowers Loan Status', fontsize = 16);\n",
    "plt.xticks(rotation = '90')\n",
    "\n",
    "# show plot\n",
    "plt.show()"
   ]
  },
  {
   "cell_type": "markdown",
   "id": "c70292b4",
   "metadata": {},
   "source": [
    "#### Observation(s)\n",
    "\n",
    "1. Less than 10000 borrowers loan status is past due dates.\n",
    "2. Over 50000 borrowers loan status is currnt.\n",
    "3. Over 30000 borrowers have completed the repayment of their loan."
   ]
  },
  {
   "cell_type": "markdown",
   "id": "3e272f8c",
   "metadata": {},
   "source": [
    "### Discuss the distribution(s) of your variable(s) of interest. Were there any unusual points? Did you need to perform any transformations?\n",
    "\n",
    "> Borrowers interest rate declines from points 1.5 and no borrower had an interest rate of 0.4 points and above. It shows that borrowers want loans with low interest rates. Borrowers Annual Percentage Rate is highly distributed from points 0.05 to 0.3.\n",
    "For Borrowers Loan Status, majority of the borrowers comply with the loan repayment method. \n",
    "\n",
    "\n",
    "### Of the features you investigated, were there any unusual distributions? Did you perform any operations on the data to tidy, adjust, or change the form of the data? If so, why did you do this?\n",
    "\n",
    "> Transformed Loan status, Prosper ratings, Listing categories, Employment status variables and Income range variables to categorical variables inorder to get a tidy data for visualizations. For Borrowers ocuppation, borrowers who wrote 'others' are more than borrowers with specified occupation. \n"
   ]
  },
  {
   "cell_type": "markdown",
   "id": "4b257f17",
   "metadata": {},
   "source": [
    "## Bivariate Visualization"
   ]
  },
  {
   "cell_type": "markdown",
   "id": "7b6b0a9a",
   "metadata": {},
   "source": [
    "In this section, Bivariate visualization would be perfored to show the relationship between two variables"
   ]
  },
  {
   "cell_type": "code",
   "execution_count": 49,
   "id": "0e87ff64",
   "metadata": {},
   "outputs": [],
   "source": [
    "# select numerical variables in prosper loan dataframe\n",
    "\n",
    "numerical_variable = prosper_loan.select_dtypes(include = np.number)"
   ]
  },
  {
   "cell_type": "code",
   "execution_count": 50,
   "id": "bef5c05b",
   "metadata": {},
   "outputs": [
    {
     "name": "stdout",
     "output_type": "stream",
     "text": [
      "<class 'pandas.core.frame.DataFrame'>\n",
      "RangeIndex: 113937 entries, 0 to 113936\n",
      "Data columns (total 25 columns):\n",
      " #   Column                               Non-Null Count   Dtype  \n",
      "---  ------                               --------------   -----  \n",
      " 0   Term                                 113937 non-null  int64  \n",
      " 1   BorrowerAPR                          113912 non-null  float64\n",
      " 2   BorrowerRate                         113937 non-null  float64\n",
      " 3   EmploymentStatusDuration             106312 non-null  float64\n",
      " 4   CreditScoreRangeLower                113346 non-null  float64\n",
      " 5   CreditScoreRangeUpper                113346 non-null  float64\n",
      " 6   AvailableBankcardCredit              106393 non-null  float64\n",
      " 7   DebtToIncomeRatio                    105383 non-null  float64\n",
      " 8   StatedMonthlyIncome                  113937 non-null  float64\n",
      " 9   TotalProsperLoans                    22085 non-null   float64\n",
      " 10  TotalProsperPaymentsBilled           22085 non-null   float64\n",
      " 11  OnTimeProsperPayments                22085 non-null   float64\n",
      " 12  ProsperPaymentsLessThanOneMonthLate  22085 non-null   float64\n",
      " 13  ProsperPaymentsOneMonthPlusLate      22085 non-null   float64\n",
      " 14  ProsperPrincipalBorrowed             22085 non-null   float64\n",
      " 15  ProsperPrincipalOutstanding          22085 non-null   float64\n",
      " 16  ScorexChangeAtTimeOfListing          18928 non-null   float64\n",
      " 17  LoanCurrentDaysDelinquent            113937 non-null  int64  \n",
      " 18  LoanFirstDefaultedCycleNumber        16952 non-null   float64\n",
      " 19  LoanMonthsSinceOrigination           113937 non-null  int64  \n",
      " 20  LoanNumber                           113937 non-null  int64  \n",
      " 21  LoanOriginalAmount                   113937 non-null  int64  \n",
      " 22  PercentFunded                        113937 non-null  float64\n",
      " 23  Investors                            113937 non-null  int64  \n",
      " 24  Year                                 113937 non-null  int64  \n",
      "dtypes: float64(18), int64(7)\n",
      "memory usage: 21.7 MB\n"
     ]
    }
   ],
   "source": [
    "# display information of numerical variables\n",
    "\n",
    "numerical_variable.info()"
   ]
  },
  {
   "cell_type": "markdown",
   "id": "06420150",
   "metadata": {},
   "source": [
    "#### Visualize Correlation plot of Some selected numerical variables"
   ]
  },
  {
   "cell_type": "code",
   "execution_count": 51,
   "id": "73803633",
   "metadata": {},
   "outputs": [],
   "source": [
    "# select columns needed for the correlation plot\n",
    "\n",
    "numerical = ['BorrowerAPR', 'BorrowerRate', 'CreditScoreRangeUpper','AvailableBankcardCredit', 'DebtToIncomeRatio', 'StatedMonthlyIncome', 'LoanOriginalAmount', 'Investors']\n"
   ]
  },
  {
   "cell_type": "code",
   "execution_count": 52,
   "id": "b3483556",
   "metadata": {},
   "outputs": [
    {
     "data": {
      "image/png": "[encoded data removed]",
      "text/plain": [
       "<Figure size 720x576 with 2 Axes>"
      ]
     },
     "metadata": {
      "needs_background": "light"
     },
     "output_type": "display_data"
    }
   ],
   "source": [
    "# figuresize\n",
    "plt.figure(figsize = [10, 8])\n",
    "\n",
    "sns.heatmap(prosper_loan[numerical].corr(), annot = True, fmt = '.2f', cmap = 'flare_r', center = 0);"
   ]
  },
  {
   "cell_type": "markdown",
   "id": "19f35f23",
   "metadata": {},
   "source": [
    "#### Observation(s)\n",
    "\n",
    "1. Borrowers interest rate and borrowers annual percentage rate have a positive correlation.\n",
    "2. Credit score range upper and Available bank card credit have  possive correlation."
   ]
  },
  {
   "cell_type": "markdown",
   "id": "e8bdfe92",
   "metadata": {},
   "source": [
    "#### Visualize Correlation Between Borrowers Interest Rate and Borrowers Annual Percentage Rate"
   ]
  },
  {
   "cell_type": "code",
   "execution_count": 53,
   "id": "461a7ba6",
   "metadata": {},
   "outputs": [
    {
     "data": {
      "image/png": "[encoded data removed]",
      "text/plain": [
       "<Figure size 720x432 with 1 Axes>"
      ]
     },
     "metadata": {
      "needs_background": "light"
     },
     "output_type": "display_data"
    }
   ],
   "source": [
    "# figure size\n",
    "plt.figure(figsize = [10, 6])\n",
    "plt.xlabel('Borrowers Annual Percentage Rate', fontsize = '13')\n",
    "plt.ylabel('Borrowers Interest Rate')\n",
    "plt.title('Correlation Between Borrower APR and Borrower Rate', fontsize = '16')\n",
    "sns.regplot(data = prosper_loan, x = 'BorrowerAPR', y = 'BorrowerRate');"
   ]
  },
  {
   "cell_type": "markdown",
   "id": "0b22b3be",
   "metadata": {},
   "source": [
    "#### Observation(s)\n",
    "\n",
    "1. The correlation plot between Borrowers Interest Rate and Borrowers Annual Percentage Rate is positively high."
   ]
  },
  {
   "cell_type": "markdown",
   "id": "7fef2098",
   "metadata": {},
   "source": [
    "#### Prosper Ratings VS Borrower Rate"
   ]
  },
  {
   "cell_type": "code",
   "execution_count": 54,
   "id": "3871e6c9",
   "metadata": {},
   "outputs": [
    {
     "data": {
      "image/png": "[encoded data removed]",
      "text/plain": [
       "<Figure size 720x432 with 1 Axes>"
      ]
     },
     "metadata": {
      "needs_background": "light"
     },
     "output_type": "display_data"
    }
   ],
   "source": [
    "# figuresize\n",
    "fig = plt.figure(figsize = (10, 6))\n",
    "\n",
    "# Barplot\n",
    "sns.barplot(x = 'prosper_rating', y = 'BorrowerRate', data = prosper_loan, color = 'blue')\n",
    "plt.xlabel('Prosper Rating', fontsize = 13)\n",
    "plt.ylabel('Borrowers Rate', fontsize = 13)\n",
    "plt.title('Prosper Rating VS Borrowers Rate')\n",
    "plt.show()"
   ]
  },
  {
   "cell_type": "markdown",
   "id": "b2ff7aee",
   "metadata": {},
   "source": [
    "#### Observation(s)\n",
    "\n",
    "1. HR rating had the highest borrower's interest rate.\n",
    "2. AA rating had the least borrower's interest rate."
   ]
  },
  {
   "cell_type": "markdown",
   "id": "a7c3976f",
   "metadata": {},
   "source": [
    "#### Visualize Borrowers Income Range VS Borrowers Loan Original Amount"
   ]
  },
  {
   "cell_type": "code",
   "execution_count": 55,
   "id": "68caaa00",
   "metadata": {},
   "outputs": [
    {
     "data": {
      "image/png": "[encoded data removed]",
      "text/plain": [
       "<Figure size 720x432 with 1 Axes>"
      ]
     },
     "metadata": {
      "needs_background": "light"
     },
     "output_type": "display_data"
    }
   ],
   "source": [
    "# figuresize\n",
    "fig = plt.figure(figsize = (10, 6))\n",
    "\n",
    "# barplot\n",
    "sns.barplot(x = 'IncomeRange', y = 'LoanOriginalAmount', data = prosper_loan, color = 'blue')\n",
    "plt.xlabel('Income Range', fontsize = 13)\n",
    "plt.ylabel('Loan Orinal Amount', fontsize = 13)\n",
    "plt.title('Borrowers Income Range VS Borrowers Loan Original Amount', fontsize = '16')\n",
    "plt.xticks(rotation = 90)\n",
    "\n",
    "plt.show()"
   ]
  },
  {
   "cell_type": "markdown",
   "id": "86d27635",
   "metadata": {},
   "source": [
    "#### Observation(s)\n",
    "\n",
    "1. High income earners have high loan amount."
   ]
  },
  {
   "cell_type": "markdown",
   "id": "b3d64ced",
   "metadata": {},
   "source": [
    "#### Visualize Borrowers Loan Status VS Borrowers Loan Original Amount"
   ]
  },
  {
   "cell_type": "code",
   "execution_count": 56,
   "id": "3a7c4933",
   "metadata": {},
   "outputs": [
    {
     "data": {
      "image/png": "[encoded data removed]",
      "text/plain": [
       "<Figure size 720x360 with 1 Axes>"
      ]
     },
     "metadata": {
      "needs_background": "light"
     },
     "output_type": "display_data"
    }
   ],
   "source": [
    "# figuresize\n",
    "fig = plt.figure(figsize = (10, 5))\n",
    "\n",
    "# barplot\n",
    "sns.barplot(x = 'LoanStatus', y = 'LoanOriginalAmount', data = prosper_loan, color = 'blue')\n",
    "plt.xlabel('Loan Status')\n",
    "plt.ylabel('Loan Original Amount')\n",
    "plt.title('Loan Status VS Loan Original Amount')\n",
    "plt.xticks(rotation = 90)\n",
    "\n",
    "plt.show()"
   ]
  },
  {
   "cell_type": "markdown",
   "id": "d0633a82",
   "metadata": {},
   "source": [
    "#### Observation(s)\n",
    "\n",
    "1. Borrowers with 'past due date' loan status acquired high loan original amount."
   ]
  },
  {
   "cell_type": "markdown",
   "id": "9162295d",
   "metadata": {},
   "source": [
    "#### Visualize Investors VS Borrowers Employment Status"
   ]
  },
  {
   "cell_type": "code",
   "execution_count": 57,
   "id": "ad09305c",
   "metadata": {},
   "outputs": [
    {
     "data": {
      "image/png": "[encoded data removed]",
      "text/plain": [
       "<Figure size 864x360 with 1 Axes>"
      ]
     },
     "metadata": {
      "needs_background": "light"
     },
     "output_type": "display_data"
    }
   ],
   "source": [
    "# figuresize\n",
    "plt.figure(figsize = [12, 5])\n",
    "\n",
    "# barplot\n",
    "sns.barplot(data = prosper_loan, y = 'Investors', x='EmploymentStatus', color=base_color)\n",
    "plt.xlabel('Employment Status', fontsize = '13')\n",
    "plt.ylabel('Investors', fontsize = '13')\n",
    "plt.title('Investors VS Borrowers Employment Status', fontsize = '16')\n",
    "plt.xticks(rotation=90)\n",
    "plt.show()"
   ]
  },
  {
   "cell_type": "markdown",
   "id": "61d450bd",
   "metadata": {},
   "source": [
    "#### Observation(s)\n",
    "\n",
    "1. Full time Employed borrowers have the highest number of investors."
   ]
  },
  {
   "cell_type": "markdown",
   "id": "3d8b4d28",
   "metadata": {},
   "source": [
    "#### Visualize Investors VS Borrowers Income Range"
   ]
  },
  {
   "cell_type": "code",
   "execution_count": null,
   "id": "698b54f9",
   "metadata": {},
   "outputs": [],
   "source": [
    "# figuresize\n",
    "plt.figure(figsize = [12, 5])\n",
    "\n",
    "# barplot\n",
    "sns.barplot(data = prosper_loan, y = 'Investors', x='IncomeRange', color=base_color)\n",
    "plt.xlabel('Income Range', fontsize = '13')\n",
    "plt.ylabel('Investors', fontsize = '13')\n",
    "plt.title('Investors VS Borrowers Income Range', fontsize = '16')\n",
    "plt.xticks(rotation=90)\n",
    "plt.show()"
   ]
  },
  {
   "cell_type": "markdown",
   "id": "32a4783b",
   "metadata": {},
   "source": [
    "#### Observation(s)\n",
    "\n",
    "1. Borrowers who earn high income have more investors.\n",
    "2. Surprisingly income range of $0 have high investors."
   ]
  },
  {
   "cell_type": "markdown",
   "id": "d4dd460e",
   "metadata": {},
   "source": [
    "#### Visualize Loan Status VS Borrowers Interes Rate and Loan Status VS Borrowers Annual Percentage APR"
   ]
  },
  {
   "cell_type": "code",
   "execution_count": null,
   "id": "fc6096e7",
   "metadata": {},
   "outputs": [],
   "source": [
    "# figuresize\n",
    "plt.figure(figsize = [18, 6])\n",
    "\n",
    "plt.subplot(1, 2, 1)\n",
    "sns.boxplot(data = prosper_loan, x = 'LoanStatus', y ='BorrowerRate', color=base_color)\n",
    "plt.xlabel('Loan Status', fontsize = '13')\n",
    "plt.ylabel('BorrowerRate', fontsize = '13')\n",
    "plt.title('Loan Status VS Borrowers Interest Rate ', fontsize = '16')\n",
    "plt.xticks(rotation=90)\n",
    "\n",
    "\n",
    "\n",
    "plt.subplot(1, 2, 2)\n",
    "sns.boxplot(data = prosper_loan, x = 'LoanStatus', y ='BorrowerAPR', color=base_color)\n",
    "plt.xlabel('Loan Status', fontsize = '13')\n",
    "plt.ylabel('BorrowerAPR', fontsize = '13')\n",
    "plt.title('Loan Status VS Borrowers Annual Percentage Rate', fontsize = '16')\n",
    "plt.xticks(rotation=90)\n",
    "\n",
    "plt.show()\n"
   ]
  },
  {
   "cell_type": "markdown",
   "id": "ff7d87e4",
   "metadata": {},
   "source": [
    "#### Observation(s)\n",
    "\n",
    "1. Borrowers with high interest rates and high Annual percentage rate have loan status of past due dates."
   ]
  },
  {
   "cell_type": "markdown",
   "id": "389c5057",
   "metadata": {},
   "source": [
    "### Talk about some of the relationships you observed in this part of the investigation. How did the feature(s) of interest vary with other features in the dataset?\n",
    "\n",
    "> There is high positive correlation between borrowers interest rate and borrowers annual percentage rate. Checking the relationship between loan status and borrowers interest rate have loan status past due dates.\n",
    "\n",
    "### Did you observe any interesting relationships between the other features (not the main feature(s) of interest)?\n",
    "\n",
    "> Other interesting relationships are that borrowers who earn more acquire higher loans and employed borrowers have more loan investors."
   ]
  },
  {
   "cell_type": "markdown",
   "id": "7a22e81f",
   "metadata": {},
   "source": [
    "## Multivariate Plot"
   ]
  },
  {
   "cell_type": "markdown",
   "id": "8489c2d3",
   "metadata": {},
   "source": [
    "In this section multivariate plots would be created."
   ]
  },
  {
   "cell_type": "markdown",
   "id": "da323603",
   "metadata": {},
   "source": [
    "#### Visualize Loan Year VS Borrower Rate VS Loan Term"
   ]
  },
  {
   "cell_type": "code",
   "execution_count": null,
   "id": "e0514050",
   "metadata": {},
   "outputs": [],
   "source": [
    "# figure size\n",
    "plt.figure(figsize = [18, 6])\n",
    "\n",
    "# barplot\n",
    "sns.barplot(data = prosper_loan, x = 'Year', y= 'BorrowerRate', hue= 'Term')\n",
    "plt.xlabel('Year', size = 13) \n",
    "plt.ylabel('Borrowers Rate', size = 13)\n",
    "plt.title('Loan Year VS Borrower Rate VS Loan Term')\n",
    "plt.show()"
   ]
  },
  {
   "cell_type": "markdown",
   "id": "a355518f",
   "metadata": {},
   "source": [
    "#### Observation(s)\n",
    "\n",
    "1. From 2005 till 2009, there was no information on borrowers interest for 12 months and 60 months loan term.\n",
    "2. 2014 records no information on borrowers rate for 12 months loan term.\n",
    "3. 2011 records the highest interest rate for 36 months loan term.\n",
    "4. 36 months loan term is recorded as the common borrowers loan term over the years."
   ]
  },
  {
   "cell_type": "markdown",
   "id": "c7e293d2",
   "metadata": {},
   "source": [
    "#### Visualize Borrowers Employment Status VS Loan Original Amont VS Loan Term"
   ]
  },
  {
   "cell_type": "code",
   "execution_count": null,
   "id": "9af3c83d",
   "metadata": {},
   "outputs": [],
   "source": [
    "plt.figure(figsize  = [15,8])\n",
    "\n",
    "sns.barplot(data = prosper_loan, x = 'EmploymentStatus', y= 'LoanOriginalAmount', hue= 'Term')\n",
    "plt.xlabel('EmploymentStatus', fontsize = 13)\n",
    "plt.ylabel('Loan Original Amount', fontsize = 13)\n",
    "plt.title('Employment Status VS Loan Original Amount VS Term', fontsize = '16')\n",
    "plt.xticks(rotation = 90)\n",
    "plt.show()"
   ]
  },
  {
   "cell_type": "markdown",
   "id": "017cf65d",
   "metadata": {},
   "source": [
    "#### Observation(s)\n",
    "\n",
    "1. Employed borrowers have more loan terms."
   ]
  },
  {
   "cell_type": "markdown",
   "id": "32de3565",
   "metadata": {},
   "source": [
    "#### Visualize Income Range VS Loan Original Amount VS Loan Term"
   ]
  },
  {
   "cell_type": "code",
   "execution_count": null,
   "id": "fbb31ed0",
   "metadata": {},
   "outputs": [],
   "source": [
    "# figure size\n",
    "plt.figure(figsize  = [15,8])\n",
    "\n",
    "sns.barplot(data = prosper_loan, x = 'IncomeRange', y= 'LoanOriginalAmount', hue= 'Term')\n",
    "plt.xlabel('Income Range', size = 13) \n",
    "plt.ylabel('Loan Original Amount', size = 13) \n",
    "plt.title('Income Range VS Loan Original Amount VS Loan Term')\n",
    "plt.xticks(rotation = 90)\n",
    "plt.show()"
   ]
  },
  {
   "cell_type": "markdown",
   "id": "db481063",
   "metadata": {},
   "source": [
    "#### Observation(s)\n",
    "\n",
    "1. As income range increases, borrowers loan original amount increases and the higher the loan amount, the higher the loan term."
   ]
  },
  {
   "cell_type": "markdown",
   "id": "20669cb9",
   "metadata": {},
   "source": [
    "#### Visualize Income Range VS Loan Original Amount VS IS Borrower Home Owner"
   ]
  },
  {
   "cell_type": "code",
   "execution_count": null,
   "id": "73127c14",
   "metadata": {},
   "outputs": [],
   "source": [
    "plt.figure(figsize  = [15,8])\n",
    "\n",
    "sns.barplot(data = prosper_loan, x = 'IncomeRange', y= 'LoanOriginalAmount', hue= 'IsBorrowerHomeowner')\n",
    "plt.xlabel('Income Range', size = 13)\n",
    "plt.ylabel('Loan Original Amount', size = 13)\n",
    "plt.title('Income Range VS Loan Original Amount VS IS Borrower Home Owner', fontsize = '16')\n",
    "plt.xticks(rotation = 90)\n",
    "plt.show()"
   ]
  },
  {
   "cell_type": "markdown",
   "id": "6b066b7f",
   "metadata": {},
   "source": [
    "#### Observation(s)\n",
    "\n",
    "1. Borrowers who own houses are more than borrowers who do not in all categories of income range variable."
   ]
  },
  {
   "cell_type": "markdown",
   "id": "f7fd331d",
   "metadata": {},
   "source": [
    "### Talk about some of the relationships you observed in this part of the investigation. Were there features that strengthened each other in terms of looking at your feature(s) of interest?\n",
    "\n",
    "> Looking at the relationship between borrowers income range and loan amount on loan term, employed borrowers take high amount of loan and borrowers with higher loan amount have higher loan terms. Also, borrowers with high amount of loan in all categories of income range own houses. From 2005 till 2009, there was no information on borrowers interest for 12 months and 60 months loan term.\n",
    "\n",
    "### Were there any interesting or surprising interactions between features?\n",
    "\n",
    "> An interesting interaction came up between features came up between Borrowers income range variables and borrowers loan original amount. Unemployed borrowers and borrowers who earn no income take loans with high amount than some employed borrowers."
   ]
  },
  {
   "cell_type": "markdown",
   "id": "7ef3c9b4",
   "metadata": {},
   "source": [
    "## References"
   ]
  },
  {
   "cell_type": "markdown",
   "id": "065a5833",
   "metadata": {},
   "source": [
    "https://datascienceparichay.com/article/pandas-extract-year-from-datetime-column/\n",
    "    \n",
    "https://www.linkedin.com/pulse/multivariate-plots-python-jeff-johnson/"
   ]
  }
 ],
 "metadata": {
  "kernelspec": {
   "display_name": "Python 3 (ipykernel)",
   "language": "python",
   "name": "python3"
  },
  "language_info": {
   "codemirror_mode": {
    "name": "ipython",
    "version": 3
   },
   "file_extension": ".py",
   "mimetype": "text/x-python",
   "name": "python",
   "nbconvert_exporter": "python",
   "pygments_lexer": "ipython3",
   "version": "3.9.12"
  }
 },
 "nbformat": 4,
 "nbformat_minor": 5
}
